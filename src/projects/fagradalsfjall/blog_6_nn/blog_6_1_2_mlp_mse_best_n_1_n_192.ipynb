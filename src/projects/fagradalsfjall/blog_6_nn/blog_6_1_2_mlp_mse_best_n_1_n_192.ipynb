{
 "cells": [
  {
   "cell_type": "code",
   "execution_count": null,
   "metadata": {
    "pycharm": {
     "name": "#%%\n"
    }
   },
   "outputs": [],
   "source": [
    "from typing import Dict, Any\n",
    "\n",
    "from src.base.forecasting.models.time_series import TimeSeriesModelAutoRegressiveMLP\n",
    "from src.projects.fagradalsfjall.common.dataset import load_train_data_numpy\n",
    "from src.projects.fagradalsfjall.common.model_eval import ModelEvalResult\n",
    "from src.projects.fagradalsfjall.common.model_repo import ModelRepo"
   ]
  },
  {
   "cell_type": "markdown",
   "metadata": {
    "pycharm": {
     "name": "#%% md\n"
    }
   },
   "source": [
    "# 2. Select best n=1 & n=192 parameters and evaluate"
   ]
  },
  {
   "cell_type": "code",
   "execution_count": null,
   "metadata": {
    "pycharm": {
     "name": "#%%\n"
    }
   },
   "outputs": [],
   "source": [
    "# -------------------------------------------------------------------------\n",
    "#  Load data\n",
    "# -------------------------------------------------------------------------\n",
    "\n",
    "# --- load training data ----------------------------------\n",
    "print(\"Loading training dataset...    \", end=\"\")\n",
    "x_train = load_train_data_numpy()\n",
    "print(\"Done.\")\n",
    "\n",
    "# --- load models -----------------------------------------\n",
    "model_mlp_rmse = ModelRepo.load_models([\"mlp-rmse\"])[\"mlp-rmse\"].ts_model  # type: TimeSeriesModelAutoRegressiveMLP"
   ]
  },
  {
   "cell_type": "code",
   "execution_count": null,
   "metadata": {
    "pycharm": {
     "name": "#%%\n"
    }
   },
   "outputs": [],
   "source": [
    "# -------------------------------------------------------------------------\n",
    "#  Evaluate best model for n=1\n",
    "# -------------------------------------------------------------------------\n",
    "\n",
    "# --- get optimal parameters ------------------------------\n",
    "params_n_1 = model_mlp_rmse.cv.results.filter({\"n\": 1}).best_result.params  # type: Dict[str, Any]\n",
    "print(params_n_1)\n",
    "\n",
    "# --- create model ----------------------------------------\n",
    "model_mlp_rmse_n_1 = TimeSeriesModelAutoRegressiveMLP(p=1, n=1)\n",
    "model_mlp_rmse_n_1.set_params(**params_n_1)\n",
    "models_n_1 = {\"mlp-rmse-n-1\": model_mlp_rmse_n_1}\n",
    "\n",
    "# --- train on training set -------------------------------\n",
    "model_mlp_rmse_n_1.fit(x_train)\n",
    "\n",
    "# --- evaluate & save -------------------------------------\n",
    "model_eval_results_n_1 = ModelEvalResult.eval_many(models_n_1, compute_metrics=True)\n",
    "ModelRepo.save_models(model_eval_results_n_1)"
   ]
  },
  {
   "cell_type": "code",
   "execution_count": null,
   "metadata": {
    "pycharm": {
     "name": "#%%\n"
    }
   },
   "outputs": [],
   "source": [
    "# -------------------------------------------------------------------------\n",
    "#  Evaluate best model for n=192\n",
    "# -------------------------------------------------------------------------\n",
    "\n",
    "# --- get optimal parameters ------------------------------\n",
    "params_n_192 = model_mlp_rmse.cv.results.filter({\"n\": 192}).best_result.params  # type: Dict[str, Any]\n",
    "print(params_n_192)\n",
    "\n",
    "# --- create model ----------------------------------------\n",
    "model_mlp_rmse_n_192 = TimeSeriesModelAutoRegressiveMLP(p=1, n=1)\n",
    "model_mlp_rmse_n_192.set_params(**params_n_192)\n",
    "models_n_192 = {\"mlp-rmse-n-192\": model_mlp_rmse_n_192}\n",
    "\n",
    "# --- train on training set -------------------------------\n",
    "model_mlp_rmse_n_192.fit(x_train)\n",
    "\n",
    "# --- evaluate & save -------------------------------------\n",
    "model_eval_results_n_192 = ModelEvalResult.eval_many(models_n_192, compute_metrics=True)\n",
    "ModelRepo.save_models(model_eval_results_n_192)"
   ]
  },
  {
   "cell_type": "code",
   "execution_count": null,
   "metadata": {
    "pycharm": {
     "name": "#%%\n"
    }
   },
   "outputs": [],
   "source": []
  }
 ],
 "metadata": {
  "kernelspec": {
   "display_name": "Python 3",
   "language": "python",
   "name": "python3"
  },
  "language_info": {
   "codemirror_mode": {
    "name": "ipython",
    "version": 2
   },
   "file_extension": ".py",
   "mimetype": "text/x-python",
   "name": "python",
   "nbconvert_exporter": "python",
   "pygments_lexer": "ipython2",
   "version": "2.7.6"
  }
 },
 "nbformat": 4,
 "nbformat_minor": 0
}
