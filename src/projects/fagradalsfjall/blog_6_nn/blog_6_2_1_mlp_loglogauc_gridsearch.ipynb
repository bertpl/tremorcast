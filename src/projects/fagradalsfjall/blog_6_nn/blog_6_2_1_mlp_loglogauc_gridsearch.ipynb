{
 "cells": [
  {
   "cell_type": "code",
   "execution_count": null,
   "metadata": {
    "pycharm": {
     "name": "#%%\n"
    }
   },
   "outputs": [],
   "source": [
    "from src.base.forecasting.models import LogLogAUCLoss\n",
    "from src.base.forecasting.models.time_series import TimeSeriesModelAutoRegressiveMLP\n",
    "\n",
    "from src.projects.fagradalsfjall.common.dataset import load_train_data_numpy\n",
    "from src.projects.fagradalsfjall.common.model_eval import ModelEvalResult\n",
    "from src.projects.fagradalsfjall.common.model_repo import ModelRepo\n",
    "from src.projects.fagradalsfjall.common.project_settings import (\n",
    "    CV_HORIZON_SAMPLES,\n",
    "    TS_CV_SPLITTER,\n",
    "    TS_PRIMARY_METRIC,\n",
    ")\n",
    "from src.projects.fagradalsfjall.blog_6_nn.param_grids import params_grid_search"
   ]
  },
  {
   "cell_type": "markdown",
   "metadata": {
    "pycharm": {
     "name": "#%% md\n"
    }
   },
   "source": [
    "# 1. Grid search for loss=LogLogAUC"
   ]
  },
  {
   "cell_type": "code",
   "execution_count": null,
   "metadata": {
    "pycharm": {
     "name": "#%%\n"
    }
   },
   "outputs": [],
   "source": [
    "# -------------------------------------------------------------------------\n",
    "#  Load TRAINING set\n",
    "# -------------------------------------------------------------------------\n",
    "\n",
    "print(\"Loading training dataset...    \", end=\"\")\n",
    "x_train = load_train_data_numpy()\n",
    "print(\"Done.\")"
   ]
  },
  {
   "cell_type": "code",
   "execution_count": null,
   "metadata": {
    "pycharm": {
     "name": "#%%\n"
    }
   },
   "outputs": [],
   "source": [
    "# -------------------------------------------------------------------------\n",
    "#  MLP - Some test runs without CV\n",
    "# -------------------------------------------------------------------------\n",
    "\n",
    "# --- define model ----------------------------------------\n",
    "loss = LogLogAUCLoss()\n",
    "model_mlp = TimeSeriesModelAutoRegressiveMLP(p=64, n=192, loss=loss)\n",
    "\n",
    "models = {\"mlp-auc\": model_mlp}\n",
    "\n",
    "# --- configure param optimization ------------------------\n",
    "param_grid = params_grid_search\n",
    "\n",
    "# --- fit - cross-validation ------------------------------\n",
    "# should complete in ±6h with 12 workers\n",
    "model_mlp.cv.grid_search(\n",
    "    x=x_train,\n",
    "    param_grid=param_grid,\n",
    "    metric=TS_PRIMARY_METRIC,\n",
    "    ts_cv_splitter=TS_CV_SPLITTER,\n",
    "    hor=CV_HORIZON_SAMPLES,\n",
    "    retrain=True,\n",
    "    n_jobs=6,\n",
    ")"
   ]
  },
  {
   "cell_type": "code",
   "execution_count": null,
   "metadata": {
    "pycharm": {
     "name": "#%%\n"
    }
   },
   "outputs": [],
   "source": [
    "# plot grid search results\n",
    "# model_mlp.cv.results.plot_2d(x_param=\"n_epochs\", y_param=\"lr_max\").create(w=18, h=12)\n",
    "\n",
    "# model_mlp.cv.results.plot_1d(param_names=\"lr_max\").create(w=18, h=12)\n",
    "model_mlp.cv.results.plot_1d(param_names=\"n_epochs\").create(w=18, h=12)\n",
    "model_mlp.cv.results.plot_1d(param_names=\"n_hidden_layers\").create(w=18, h=12)\n",
    "model_mlp.cv.results.plot_1d(param_names=\"layer_width\").create(w=18, h=12)\n",
    "model_mlp.cv.results.plot_1d(param_names=\"dropout\").create(w=18, h=12)\n",
    "model_mlp.cv.results.plot_1d(param_names=\"wd\").create(w=18, h=12)\n",
    "model_mlp.cv.results.plot_1d(param_names=\"n\").create(w=18, h=12)"
   ]
  },
  {
   "cell_type": "code",
   "execution_count": null,
   "metadata": {
    "pycharm": {
     "name": "#%%\n"
    }
   },
   "outputs": [],
   "source": [
    "# --- evaluate & save -------------------------------------\n",
    "model_eval_results = ModelEvalResult.eval_many(models, compute_metrics=True)\n",
    "\n",
    "ModelRepo.save_models(model_eval_results)"
   ]
  }
 ],
 "metadata": {
  "kernelspec": {
   "display_name": "Python 3",
   "language": "python",
   "name": "python3"
  },
  "language_info": {
   "codemirror_mode": {
    "name": "ipython",
    "version": 2
   },
   "file_extension": ".py",
   "mimetype": "text/x-python",
   "name": "python",
   "nbconvert_exporter": "python",
   "pygments_lexer": "ipython2",
   "version": "2.7.6"
  }
 },
 "nbformat": 4,
 "nbformat_minor": 0
}
