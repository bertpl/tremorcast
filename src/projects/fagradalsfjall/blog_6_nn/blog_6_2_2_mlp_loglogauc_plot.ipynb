{
 "cells": [
  {
   "cell_type": "code",
   "execution_count": null,
   "metadata": {
    "pycharm": {
     "name": "#%%\n"
    }
   },
   "outputs": [],
   "source": [
    "from src.projects.fagradalsfjall.common.model_eval import ModelEvalResult, ValidationType\n",
    "from src.projects.fagradalsfjall.common.model_eval_plot_curves import generate_all_rmse_plots\n",
    "from src.projects.fagradalsfjall.common.model_eval_plot_simulations import plot_simulations\n",
    "from src.projects.fagradalsfjall.common.model_repo import ModelRepo\n",
    "from src.projects.fagradalsfjall.common.paths import get_blog_post_subfolder\n",
    "from src.projects.fagradalsfjall.common.project_settings import TS_PRIMARY_METRIC_DISPLAY_NAME\n",
    "from src.tools.datetime import format_timedelta"
   ]
  },
  {
   "cell_type": "markdown",
   "metadata": {
    "pycharm": {
     "name": "#%% md\n"
    }
   },
   "source": [
    "# 2. Visualization"
   ]
  },
  {
   "cell_type": "code",
   "execution_count": null,
   "metadata": {
    "pycharm": {
     "name": "#%%\n"
    }
   },
   "outputs": [],
   "source": [
    "# -------------------------------------------------------------------------\n",
    "#  Output path settings\n",
    "# -------------------------------------------------------------------------\n",
    "path_results_mlp_auc = get_blog_post_subfolder(6, \"results_2_mlp_auc\")"
   ]
  },
  {
   "cell_type": "code",
   "execution_count": null,
   "metadata": {
    "pycharm": {
     "name": "#%%\n"
    }
   },
   "outputs": [],
   "source": [
    "# -------------------------------------------------------------------------\n",
    "#  Load data\n",
    "# -------------------------------------------------------------------------\n",
    "\n",
    "# --- load models -------------------------------------\n",
    "prev_model_eval_results = ModelRepo.load_models([\"naive-mean\", \"naive-constant\", \"naive-exp-decay\", \"linear-ar\"])\n",
    "\n",
    "mlp_auc_model_eval_results = ModelRepo.load_models([\"mlp-auc\"])\n",
    "mlp_mse_n_1_model_eval_results = ModelRepo.load_models([\"mlp-rmse-n-1\"])\n",
    "mlp_mse_n_192_model_eval_results = ModelRepo.load_models([\"mlp-rmse-n-192\"])\n",
    "\n",
    "# rename\n",
    "mlp_mse_n_1_model_eval_results = {\"mlp-mse-n-1\": mlp_mse_n_1_model_eval_results[\"mlp-rmse-n-1\"]}\n",
    "mlp_mse_n_192_model_eval_results = {\"mlp-mse-n-192\": mlp_mse_n_192_model_eval_results[\"mlp-rmse-n-192\"]}\n",
    "\n",
    "# --- post-processing ---------------------------------\n",
    "model_mlp_auc = mlp_auc_model_eval_results[\"mlp-auc\"].ts_model"
   ]
  },
  {
   "cell_type": "code",
   "execution_count": null,
   "metadata": {
    "pycharm": {
     "name": "#%%\n"
    }
   },
   "outputs": [],
   "source": [
    "# -------------------------------------------------------------------------\n",
    "#  Overall grid search 1D results\n",
    "# -------------------------------------------------------------------------\n",
    "param_names = [\"n_epochs\", \"n_hidden_layers\", \"dropout\", \"n\"]\n",
    "\n",
    "for param_name in param_names:\n",
    "\n",
    "    fig, ax = (\n",
    "        model_mlp_auc.cv.results.plot_1d(param_names=param_name)\n",
    "        .set_fig_title(f\"Cross-validation - 'mlp-auc' - best results for each value of '{param_name}'\")\n",
    "        .set_y_label(TS_PRIMARY_METRIC_DISPLAY_NAME)\n",
    "        .set_x_label(param_name)\n",
    "        .create(w=12, h=8)\n",
    "    )\n",
    "    fig.savefig(path_results_mlp_auc / f\"cv_1d_best_{param_name}.png\", dpi=600)"
   ]
  },
  {
   "cell_type": "code",
   "execution_count": null,
   "metadata": {
    "pycharm": {
     "name": "#%%\n"
    }
   },
   "outputs": [],
   "source": [
    "# -------------------------------------------------------------------------\n",
    "#  RMSE curves\n",
    "# -------------------------------------------------------------------------\n",
    "\n",
    "# merge all evaluation results in single dict for visualization\n",
    "model_eval_results = (\n",
    "    prev_model_eval_results\n",
    "    | mlp_mse_n_1_model_eval_results\n",
    "    | mlp_mse_n_192_model_eval_results\n",
    "    | mlp_auc_model_eval_results\n",
    ")\n",
    "\n",
    "# create RMSE plots\n",
    "generate_all_rmse_plots(model_eval_results, path_results_mlp_auc, highlight_models=[\"mlp-auc\"])"
   ]
  },
  {
   "cell_type": "code",
   "execution_count": null,
   "metadata": {
    "pycharm": {
     "name": "#%%\n"
    }
   },
   "outputs": [],
   "source": []
  }
 ],
 "metadata": {
  "kernelspec": {
   "display_name": "Python 3",
   "language": "python",
   "name": "python3"
  },
  "language_info": {
   "codemirror_mode": {
    "name": "ipython",
    "version": 2
   },
   "file_extension": ".py",
   "mimetype": "text/x-python",
   "name": "python",
   "nbconvert_exporter": "python",
   "pygments_lexer": "ipython2",
   "version": "2.7.6"
  }
 },
 "nbformat": 4,
 "nbformat_minor": 0
}
