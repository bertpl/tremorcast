{
 "cells": [
  {
   "cell_type": "code",
   "execution_count": null,
   "metadata": {
    "pycharm": {
     "name": "#%%\n"
    }
   },
   "outputs": [],
   "source": [
    "from src.projects.fagradalsfjall.common.model_eval import ModelEvalResult, ValidationType\n",
    "from src.projects.fagradalsfjall.common.model_eval_plot_curves import generate_all_rmse_plots\n",
    "from src.projects.fagradalsfjall.common.model_eval_plot_simulations import plot_simulations\n",
    "from src.projects.fagradalsfjall.common.model_repo import ModelRepo\n",
    "from src.projects.fagradalsfjall.common.paths import get_blog_post_subfolder\n",
    "from src.projects.fagradalsfjall.common.project_settings import TS_PRIMARY_METRIC_DISPLAY_NAME\n",
    "from src.tools.datetime import format_timedelta"
   ]
  },
  {
   "cell_type": "markdown",
   "metadata": {
    "pycharm": {
     "name": "#%% md\n"
    }
   },
   "source": [
    "# 2. Visualization"
   ]
  },
  {
   "cell_type": "code",
   "execution_count": null,
   "metadata": {
    "pycharm": {
     "name": "#%%\n"
    }
   },
   "outputs": [],
   "source": [
    "# -------------------------------------------------------------------------\n",
    "#  Output path settings\n",
    "# -------------------------------------------------------------------------\n",
    "path_results_mlp_smart = get_blog_post_subfolder(6, \"results_3_mlp_smart\")\n",
    "path_results_mlp_overview = get_blog_post_subfolder(6, \"results_4_overview\")"
   ]
  },
  {
   "cell_type": "code",
   "execution_count": null,
   "metadata": {
    "pycharm": {
     "name": "#%%\n"
    }
   },
   "outputs": [],
   "source": [
    "# -------------------------------------------------------------------------\n",
    "#  Load data\n",
    "# -------------------------------------------------------------------------\n",
    "\n",
    "# --- load models -------------------------------------\n",
    "prev_model_eval_results = ModelRepo.load_models([\"naive-mean\", \"naive-constant\", \"naive-exp-decay\", \"linear-ar\"])\n",
    "\n",
    "all_mlp_model_eval_results = ModelRepo.load_models([\"mlp-rmse-n-1\", \"mlp-rmse-n-192\", \"mlp-auc\", \"mlp\"])\n",
    "\n",
    "# rename\n",
    "all_mlp_model_eval_results = {\n",
    "    \"mlp-mse-n-1\": all_mlp_model_eval_results[\"mlp-rmse-n-1\"],\n",
    "    \"mlp-mse-n-192\": all_mlp_model_eval_results[\"mlp-rmse-n-192\"],\n",
    "    \"mlp-auc\": all_mlp_model_eval_results[\"mlp-auc\"],\n",
    "    \"mlp\": all_mlp_model_eval_results[\"mlp\"],\n",
    "}\n",
    "\n",
    "final_mlp_model_eval_results = ModelRepo.load_models([\"mlp\"])\n",
    "\n",
    "# --- post-processing ---------------------------------\n",
    "model_mlp_final = all_mlp_model_eval_results[\"mlp\"].ts_model"
   ]
  },
  {
   "cell_type": "code",
   "execution_count": null,
   "metadata": {
    "pycharm": {
     "name": "#%%\n"
    }
   },
   "outputs": [],
   "source": [
    "# -------------------------------------------------------------------------\n",
    "#  Overall grid search 1D results\n",
    "# -------------------------------------------------------------------------\n",
    "param_names = [\"activation\", \"loss\", \"lr_max\", \"n_epochs\", \"wd\", \"dropout\", \"n_hidden_layers\", \"layer_width\", \"p\", \"n\"]\n",
    "\n",
    "for param_name in param_names:\n",
    "\n",
    "    fig, ax = (\n",
    "        model_mlp_final.cv.results.plot_1d(param_names=param_name)\n",
    "        .set_fig_title(f\"Cross-validation - 'mlp-final' - best results for each value of '{param_name}'\")\n",
    "        .set_y_label(TS_PRIMARY_METRIC_DISPLAY_NAME)\n",
    "        .set_x_label(param_name)\n",
    "        .create(w=12, h=8)\n",
    "    )\n",
    "    fig.savefig(path_results_mlp_smart / f\"cv_1d_best_{param_name}.png\", dpi=600)"
   ]
  },
  {
   "cell_type": "code",
   "execution_count": null,
   "metadata": {
    "pycharm": {
     "name": "#%%\n"
    }
   },
   "outputs": [],
   "source": [
    "# -------------------------------------------------------------------------\n",
    "#  Test set results - RMSE Curves\n",
    "# -------------------------------------------------------------------------\n",
    "\n",
    "# merge all evaluation results in single dict for visualization\n",
    "model_eval_results = prev_model_eval_results | final_mlp_model_eval_results\n",
    "\n",
    "# create RMSE plots\n",
    "generate_all_rmse_plots(model_eval_results, path_results_mlp_overview, highlight_models=[\"mlp-final\"])"
   ]
  },
  {
   "cell_type": "code",
   "execution_count": null,
   "metadata": {
    "pycharm": {
     "name": "#%%\n"
    }
   },
   "outputs": [],
   "source": [
    "# -------------------------------------------------------------------------\n",
    "#  Test set results - Simulations\n",
    "# -------------------------------------------------------------------------\n",
    "\n",
    "# simulations\n",
    "plot_simulations(model_eval_results, path_results_mlp_overview)"
   ]
  },
  {
   "cell_type": "code",
   "execution_count": null,
   "metadata": {
    "pycharm": {
     "name": "#%%\n"
    }
   },
   "outputs": [],
   "source": [
    "# -------------------------------------------------------------------------\n",
    "#  Metric values\n",
    "# -------------------------------------------------------------------------\n",
    "\n",
    "df_metrics = ModelEvalResult.all_metric_values_as_df(model_eval_results, ValidationType.TEST)\n",
    "\n",
    "df_metrics[\"max_accurate_lead_time_samples\"] = df_metrics[\"max_accurate_lead_time\"].copy()\n",
    "df_metrics[\"max_accurate_lead_time\"] = df_metrics[\"max_accurate_lead_time\"].apply(\n",
    "    lambda x: format_timedelta(x * 15 * 60)\n",
    ")\n",
    "\n",
    "display(df_metrics)"
   ]
  }
 ],
 "metadata": {
  "kernelspec": {
   "display_name": "Python 3",
   "language": "python",
   "name": "python3"
  },
  "language_info": {
   "codemirror_mode": {
    "name": "ipython",
    "version": 2
   },
   "file_extension": ".py",
   "mimetype": "text/x-python",
   "name": "python",
   "nbconvert_exporter": "python",
   "pygments_lexer": "ipython2",
   "version": "2.7.6"
  }
 },
 "nbformat": 4,
 "nbformat_minor": 0
}
