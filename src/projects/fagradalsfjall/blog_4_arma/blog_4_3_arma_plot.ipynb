{
 "cells": [
  {
   "cell_type": "code",
   "execution_count": null,
   "metadata": {
    "pycharm": {
     "name": "#%%\n"
    }
   },
   "outputs": [],
   "source": [
    "import os\n",
    "from pathlib import Path\n",
    "\n",
    "from src.projects.fagradalsfjall.common.project_settings import (\n",
    "    TS_PRIMARY_METRIC_DISPLAY_NAME,\n",
    "    PATH_BLOG_POSTS,\n",
    ")\n",
    "from src.projects.fagradalsfjall.common.model_eval_plot_curves import generate_all_rmse_plots\n",
    "from src.projects.fagradalsfjall.common.model_eval_plot_simulations import plot_simulations\n",
    "from src.projects.fagradalsfjall.common.model_repo import ModelRepo\n",
    "from src.projects.fagradalsfjall.common.model_eval import ModelEvalResult, ValidationType\n",
    "from src.projects.fagradalsfjall.common.paths import get_blog_post_subfolder\n",
    "\n",
    "from src.tools.datetime import format_timedelta"
   ]
  },
  {
   "cell_type": "markdown",
   "metadata": {
    "pycharm": {
     "name": "#%% md\n"
    }
   },
   "source": [
    "# 2. Visualization"
   ]
  },
  {
   "cell_type": "code",
   "execution_count": null,
   "metadata": {
    "pycharm": {
     "name": "#%%\n"
    }
   },
   "outputs": [],
   "source": [
    "# -------------------------------------------------------------------------\n",
    "#  Output path settings\n",
    "# -------------------------------------------------------------------------\n",
    "path_results_arma = get_blog_post_subfolder(4, \"results_1_arma\")\n",
    "path_results_ar = get_blog_post_subfolder(4, \"results_2_ar\")\n",
    "path_results_final = get_blog_post_subfolder(4, \"results_3_final\")"
   ]
  },
  {
   "cell_type": "code",
   "execution_count": null,
   "metadata": {
    "pycharm": {
     "name": "#%%\n"
    }
   },
   "outputs": [],
   "source": [
    "# -------------------------------------------------------------------------\n",
    "#  Load all data\n",
    "# -------------------------------------------------------------------------\n",
    "\n",
    "# --- load models -------------------------------------\n",
    "naive_model_eval_results = ModelRepo.load_models([\"naive-mean\", \"naive-constant\", \"naive-exp-decay\"])\n",
    "arma_model_eval_results = ModelRepo.load_models([\"linear-arma\"])\n",
    "ar_model_eval_results = ModelRepo.load_models([\"linear-ar\"])\n",
    "\n",
    "# --- post-processing ---------------------------------\n",
    "model_arma = arma_model_eval_results[\"linear-arma\"].ts_model\n",
    "model_ar = ar_model_eval_results[\"linear-ar\"].ts_model"
   ]
  },
  {
   "cell_type": "code",
   "execution_count": null,
   "metadata": {
    "pycharm": {
     "name": "#%%\n"
    }
   },
   "outputs": [],
   "source": [
    "# -------------------------------------------------------------------------\n",
    "#  PLOTS - ARMA - Cross-Validation\n",
    "# -------------------------------------------------------------------------\n",
    "\n",
    "# --- 2D plots ----------------------------------------\n",
    "wd_values = model_arma.cv.results.all_param_values()[\"wd\"]\n",
    "for wd in sorted(wd_values):\n",
    "    fig, ax = model_arma.cv.results.plot_2d(x_param=\"p\", y_param=\"q\", param_filter=dict(wd=wd)).create(w=12, h=8)\n",
    "    fig.suptitle(f\"Cross-validation results - 'linear-arma' - [wd={wd}]\")\n",
    "\n",
    "    wd_str = str(wd).replace(\".\", \"_\")\n",
    "    fig.savefig(path_results_arma / f\"cv_2d_pq_wd_{wd_str}.png\", dpi=600)\n",
    "\n",
    "# --- 1D plots - cross-section ----------------------------\n",
    "p_opt = model_arma.cv.results.best_result.params[\"p\"]\n",
    "q_opt = model_arma.cv.results.best_result.params[\"q\"]\n",
    "wd_opt = model_arma.cv.results.best_result.params[\"wd\"]\n",
    "\n",
    "# cross-section sweep - p\n",
    "fig, ax = (\n",
    "    model_arma.cv.results.plot_1d(\n",
    "        param_names=\"p\",\n",
    "        param_filter={\"q\": q_opt, \"wd\": wd_opt},\n",
    "    )\n",
    "    .set_fig_title(f\"Cross-validation - 'linear-arma' - [q={q_opt}, wd={wd_opt}]\")\n",
    "    .set_y_label(TS_PRIMARY_METRIC_DISPLAY_NAME)\n",
    "    .create(w=12, h=8)\n",
    ")\n",
    "fig.savefig(path_results_arma / f\"cv_1d_cross_section_p.png\", dpi=600)\n",
    "\n",
    "# cross-section sweep - q\n",
    "fig, ax = (\n",
    "    model_arma.cv.results.plot_1d(\n",
    "        param_names=\"q\",\n",
    "        param_filter={\"p\": p_opt, \"wd\": wd_opt},\n",
    "    )\n",
    "    .set_fig_title(f\"Cross-validation - 'linear-arma' - [p={p_opt}, wd={wd_opt}]\")\n",
    "    .set_y_label(TS_PRIMARY_METRIC_DISPLAY_NAME)\n",
    "    .create(w=12, h=8)\n",
    ")\n",
    "fig.savefig(path_results_arma / f\"cv_1d_cross_section_q.png\", dpi=600)\n",
    "\n",
    "# cross-section sweep - wd\n",
    "fig, ax = (\n",
    "    model_arma.cv.results.plot_1d(\n",
    "        param_names=\"wd\",\n",
    "        param_filter={\"p\": p_opt, \"q\": q_opt},\n",
    "    )\n",
    "    .set_fig_title(f\"Cross-validation - 'linear-arma' - [p={p_opt}, q={q_opt}]\")\n",
    "    .set_y_label(TS_PRIMARY_METRIC_DISPLAY_NAME)\n",
    "    .create(w=12, h=8)\n",
    ")\n",
    "fig.savefig(path_results_arma / f\"cv_1d_cross_section_wd.png\", dpi=600)\n",
    "\n",
    "# --- 1D plots - best -------------------------------------\n",
    "for param_name in [\"p\", \"q\", \"wd\"]:\n",
    "\n",
    "    fig, ax = (\n",
    "        model_arma.cv.results.plot_1d(\n",
    "            param_names=param_name,\n",
    "        )\n",
    "        .set_fig_title(f\"Cross-validation - 'linear-arma' - best results for each value of '{param_name}'\")\n",
    "        .set_y_label(TS_PRIMARY_METRIC_DISPLAY_NAME)\n",
    "        .create(w=12, h=8)\n",
    "    )\n",
    "\n",
    "    fig.savefig(path_results_arma / f\"cv_1d_best_{param_name}.png\", dpi=600)"
   ]
  },
  {
   "cell_type": "code",
   "execution_count": null,
   "metadata": {
    "pycharm": {
     "name": "#%%\n"
    }
   },
   "outputs": [],
   "source": [
    "# -------------------------------------------------------------------------\n",
    "#  PLOTS - ARMA - Simulations\n",
    "# -------------------------------------------------------------------------\n",
    "\n",
    "# RMSE curves\n",
    "model_eval_results = naive_model_eval_results | arma_model_eval_results\n",
    "generate_all_rmse_plots(model_eval_results, path_results_arma, highlight_models=[\"linear-arma\"])\n",
    "\n",
    "# simulations\n",
    "plot_simulations(arma_model_eval_results, path_results_arma)"
   ]
  },
  {
   "cell_type": "code",
   "execution_count": null,
   "metadata": {
    "pycharm": {
     "name": "#%%\n"
    }
   },
   "outputs": [],
   "source": [
    "# -------------------------------------------------------------------------\n",
    "#  PLOTS - AR - Cross-Validation\n",
    "# -------------------------------------------------------------------------\n",
    "\n",
    "# --- 2D plots ----------------------------------------\n",
    "fig, ax = model_ar.cv.results.plot_2d(\n",
    "    x_param=\"p\",\n",
    "    y_param=\"wd\",\n",
    ").create(w=12, h=8)\n",
    "fig.savefig(path_results_ar / f\"cv_2d_p_wd.png\", dpi=600)\n",
    "\n",
    "# --- 1D plots - cross-section ----------------------------\n",
    "p_opt = model_ar.cv.results.best_result.params[\"p\"]\n",
    "wd_opt = model_ar.cv.results.best_result.params[\"wd\"]\n",
    "\n",
    "# cross-section sweep - p\n",
    "fig, ax = (\n",
    "    model_ar.cv.results.plot_1d(\n",
    "        param_names=\"p\",\n",
    "        param_filter={\"wd\": wd_opt},\n",
    "    )\n",
    "    .set_fig_title(f\"Cross-validation - 'linear-ar' - [wd={wd_opt}]\")\n",
    "    .set_y_label(TS_PRIMARY_METRIC_DISPLAY_NAME)\n",
    "    .create(w=12, h=8)\n",
    ")\n",
    "\n",
    "fig.savefig(path_results_ar / f\"cv_1d_cross_section_p.png\", dpi=600)\n",
    "\n",
    "# cross-section sweep - wd\n",
    "fig, ax = (\n",
    "    model_ar.cv.results.plot_1d(\n",
    "        param_names=\"wd\",\n",
    "        param_filter={\"p\": p_opt},\n",
    "    )\n",
    "    .set_fig_title(f\"Cross-validation - 'linear-ar' - [p={p_opt}]\")\n",
    "    .set_y_label(TS_PRIMARY_METRIC_DISPLAY_NAME)\n",
    "    .create(w=12, h=8)\n",
    ")\n",
    "fig.savefig(path_results_ar / f\"cv_1d_cross_section_wd.png\", dpi=600)\n",
    "\n",
    "# --- 1D plots - best -------------------------------------\n",
    "for param_name in [\"p\", \"wd\"]:\n",
    "\n",
    "    fig, ax = (\n",
    "        model_ar.cv.results.plot_1d(\n",
    "            param_names=param_name,\n",
    "        )\n",
    "        .set_fig_title(f\"Cross-validation - 'linear-ar' - best results for each value of '{param_name}'\")\n",
    "        .set_y_label(TS_PRIMARY_METRIC_DISPLAY_NAME)\n",
    "        .create(w=12, h=8)\n",
    "    )\n",
    "\n",
    "    fig.savefig(path_results_ar / f\"cv_1d_best_{param_name}.png\", dpi=600)"
   ]
  },
  {
   "cell_type": "code",
   "execution_count": null,
   "metadata": {
    "pycharm": {
     "name": "#%%\n"
    }
   },
   "outputs": [],
   "source": [
    "# -------------------------------------------------------------------------\n",
    "#  PLOTS - AR - Simulations\n",
    "# -------------------------------------------------------------------------\n",
    "\n",
    "# RMSE curves\n",
    "model_eval_results = naive_model_eval_results | arma_model_eval_results | ar_model_eval_results\n",
    "generate_all_rmse_plots(model_eval_results, path_results_ar, highlight_models=[\"ar\"])\n",
    "\n",
    "# simulations\n",
    "plot_simulations(ar_model_eval_results, path_results_ar)"
   ]
  },
  {
   "cell_type": "code",
   "execution_count": null,
   "metadata": {
    "pycharm": {
     "name": "#%%\n"
    }
   },
   "outputs": [],
   "source": [
    "# -------------------------------------------------------------------------\n",
    "#  PLOTS - FINAL - Simulations\n",
    "# -------------------------------------------------------------------------\n",
    "\n",
    "# RMSE curves\n",
    "all_model_eval_results = naive_model_eval_results | arma_model_eval_results | ar_model_eval_results\n",
    "generate_all_rmse_plots(all_model_eval_results, path_results_final, highlight_models=[\"linear-arma\", \"linear-ar\"])\n",
    "\n",
    "# simulations\n",
    "plot_simulations(arma_model_eval_results, path_results_final)\n",
    "plot_simulations(ar_model_eval_results, path_results_final)"
   ]
  },
  {
   "cell_type": "code",
   "execution_count": null,
   "metadata": {
    "pycharm": {
     "name": "#%%\n"
    }
   },
   "outputs": [],
   "source": [
    "df_metrics = ModelEvalResult.all_metric_values_as_df(all_model_eval_results, ValidationType.TEST)\n",
    "\n",
    "df_metrics[\"max_accurate_lead_time_samples\"] = df_metrics[\"max_accurate_lead_time\"].copy()\n",
    "df_metrics[\"max_accurate_lead_time\"] = df_metrics[\"max_accurate_lead_time\"].apply(\n",
    "    lambda x: format_timedelta(x * 15 * 60)\n",
    ")\n",
    "\n",
    "display(df_metrics)"
   ]
  },
  {
   "cell_type": "code",
   "execution_count": null,
   "metadata": {
    "pycharm": {
     "name": "#%%\n"
    }
   },
   "outputs": [],
   "source": []
  }
 ],
 "metadata": {
  "kernelspec": {
   "display_name": "Python 3",
   "language": "python",
   "name": "python3"
  },
  "language_info": {
   "codemirror_mode": {
    "name": "ipython",
    "version": 2
   },
   "file_extension": ".py",
   "mimetype": "text/x-python",
   "name": "python",
   "nbconvert_exporter": "python",
   "pygments_lexer": "ipython2",
   "version": "2.7.6"
  }
 },
 "nbformat": 4,
 "nbformat_minor": 0
}
