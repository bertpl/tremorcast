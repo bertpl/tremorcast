{
 "cells": [
  {
   "cell_type": "code",
   "execution_count": null,
   "metadata": {
    "pycharm": {
     "name": "#%%\n"
    }
   },
   "outputs": [],
   "source": [
    "from darts.timeseries import TimeSeries\n",
    "from darts.utils.statistics import plot_acf, plot_pacf, stationarity_test_adf, stationarity_test_kpss\n",
    "import matplotlib.pyplot as plt\n",
    "import numpy as np\n",
    "\n",
    "from src.projects.fagradalsfjall.common.paths import get_blog_post_subfolder\n",
    "from src.projects.fagradalsfjall.common.dataset import load_train_data_numpy\n",
    "from src.tools.matplotlib import plot_style_matplotlib_default, plot_style_darts"
   ]
  },
  {
   "cell_type": "code",
   "execution_count": null,
   "metadata": {
    "pycharm": {
     "name": "#%%\n"
    }
   },
   "outputs": [],
   "source": [
    "# -------------------------------------------------------------------------\n",
    "#  Output path settings\n",
    "# -------------------------------------------------------------------------\n",
    "path_figures = get_blog_post_subfolder(4, \"data_analysis\")"
   ]
  },
  {
   "cell_type": "code",
   "execution_count": null,
   "metadata": {
    "pycharm": {
     "name": "#%%\n"
    }
   },
   "outputs": [],
   "source": [
    "# -------------------------------------------------------------------------\n",
    "#  Load TRAINING set\n",
    "# -------------------------------------------------------------------------\n",
    "\n",
    "print(\"Loading training dataset...    \", end=\"\")\n",
    "x_train = load_train_data_numpy()\n",
    "print(\"Done.\")"
   ]
  },
  {
   "cell_type": "code",
   "execution_count": null,
   "metadata": {
    "pycharm": {
     "name": "#%%\n"
    }
   },
   "outputs": [],
   "source": [
    "# -------------------------------------------------------------------------\n",
    "#  Stationarity tests\n",
    "# -------------------------------------------------------------------------\n",
    "ts_train = TimeSeries.from_values(x_train)\n",
    "\n",
    "# p_value < 0.05 indicates the time series IS stationary\n",
    "adf_stat, adf_p_value, *_ = stationarity_test_adf(\n",
    "    ts=ts_train,\n",
    "    maxlag=4 * 4 * 24,  # 4 days\n",
    ")\n",
    "print(f\"ADF stationarity p-value: {adf_p_value}\")\n",
    "\n",
    "# p_value < 0.05 indicates the time series IS NOT stationary\n",
    "kpss_stat, kpss_p_value, *_ = stationarity_test_kpss(\n",
    "    ts=ts_train,\n",
    "    nlags=4 * 4 * 24,  # 4 days\n",
    ")\n",
    "print(f\"KPSS stationarity p-value: {kpss_p_value}\")"
   ]
  },
  {
   "cell_type": "code",
   "execution_count": null,
   "metadata": {
    "pycharm": {
     "name": "#%%\n"
    }
   },
   "outputs": [],
   "source": [
    "# -------------------------------------------------------------------------\n",
    "#  ACF plot\n",
    "# -------------------------------------------------------------------------\n",
    "plot_style_darts()\n",
    "\n",
    "plot_acf(ts_train, max_lag=4 * 24)\n",
    "\n",
    "fig = plt.gcf()  # type: plt.Figure\n",
    "fig.suptitle(\"TRAINING set - Auto-Correlation Function (ACF)\")\n",
    "\n",
    "fig.tight_layout()\n",
    "fig.savefig(path_figures / \"acf.png\", dpi=600)"
   ]
  },
  {
   "cell_type": "code",
   "execution_count": null,
   "metadata": {
    "pycharm": {
     "name": "#%%\n"
    }
   },
   "outputs": [],
   "source": [
    "# -------------------------------------------------------------------------\n",
    "#  PACF plot\n",
    "# -------------------------------------------------------------------------\n",
    "plot_style_darts()\n",
    "\n",
    "plot_pacf(ts_train, max_lag=4 * 24)\n",
    "\n",
    "fig = plt.gcf()  # type: plt.Figure\n",
    "fig.suptitle(\"TRAINING set - Partial Auto-Correlation Function (PACF)\")\n",
    "\n",
    "fig.tight_layout()\n",
    "fig.savefig(path_figures / \"pacf.png\", dpi=600)"
   ]
  }
 ],
 "metadata": {
  "kernelspec": {
   "display_name": "Python 3",
   "language": "python",
   "name": "python3"
  },
  "language_info": {
   "codemirror_mode": {
    "name": "ipython",
    "version": 2
   },
   "file_extension": ".py",
   "mimetype": "text/x-python",
   "name": "python",
   "nbconvert_exporter": "python",
   "pygments_lexer": "ipython2",
   "version": "2.7.6"
  }
 },
 "nbformat": 4,
 "nbformat_minor": 0
}
