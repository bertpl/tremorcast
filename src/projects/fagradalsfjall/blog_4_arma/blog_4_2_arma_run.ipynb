{
 "cells": [
  {
   "cell_type": "code",
   "execution_count": null,
   "metadata": {
    "pycharm": {
     "name": "#%%\n"
    }
   },
   "outputs": [],
   "source": [
    "import itertools\n",
    "from typing import Dict\n",
    "\n",
    "from src.base.forecasting.models import TimeSeriesModel\n",
    "from src.projects.fagradalsfjall.common.project_settings import (\n",
    "    CV_HORIZON_SAMPLES,\n",
    "    TS_CV_SPLITTER,\n",
    "    TS_PRIMARY_METRIC,\n",
    ")\n",
    "from src.base.forecasting.models.time_series import TimeSeriesModelARMA\n",
    "from src.projects.fagradalsfjall.common.dataset import load_train_data_numpy\n",
    "from src.projects.fagradalsfjall.common.model_eval import ModelEvalResult\n",
    "from src.projects.fagradalsfjall.common.model_repo import ModelRepo"
   ]
  },
  {
   "cell_type": "markdown",
   "metadata": {
    "pycharm": {
     "name": "#%% md\n"
    }
   },
   "source": [
    "# 1. Training - Cross-validation - Evaluation"
   ]
  },
  {
   "cell_type": "code",
   "execution_count": null,
   "metadata": {
    "pycharm": {
     "name": "#%%\n"
    }
   },
   "outputs": [],
   "source": [
    "# -------------------------------------------------------------------------\n",
    "#  Load TRAINING set\n",
    "# -------------------------------------------------------------------------\n",
    "\n",
    "print(\"Loading training dataset...    \", end=\"\")\n",
    "x_train = load_train_data_numpy()\n",
    "print(\"Done.\")"
   ]
  },
  {
   "cell_type": "code",
   "execution_count": null,
   "metadata": {
    "pycharm": {
     "name": "#%%\n"
    }
   },
   "outputs": [],
   "source": [
    "# -------------------------------------------------------------------------\n",
    "#  ARMA - Define & tune\n",
    "# -------------------------------------------------------------------------\n",
    "\n",
    "# --- ARMA settings -----------------------------------\n",
    "final_run = True\n",
    "\n",
    "if final_run:\n",
    "    # -- FINAL --\n",
    "    fit_robustness = 5\n",
    "    pq_range = [0, 1, 2, 3, 4, 6, 8, 12, 16, 24, 32]\n",
    "    wd_range = [0, 1e-2, 1e-1, 1.0]\n",
    "else:\n",
    "    # -- TEST --\n",
    "    fit_robustness = 1\n",
    "    pq_range = [0, 1, 2, 3]\n",
    "    wd_range = [0]\n",
    "\n",
    "# --- define model ------------------------------------\n",
    "model_arma = TimeSeriesModelARMA(fit_robustness=fit_robustness)\n",
    "\n",
    "arma_models = {\n",
    "    \"linear-arma\": model_arma,\n",
    "}  # type: Dict[str, TimeSeriesModel]\n",
    "\n",
    "# --- run cross-validation ----------------------------\n",
    "p_range = pq_range\n",
    "q_range = pq_range\n",
    "param_grid = {(\"p\", \"q\"): [(p, q) for p, q in itertools.product(p_range, q_range) if p + q > 0], \"wd\": wd_range}\n",
    "\n",
    "model_arma.cv.grid_search(\n",
    "    x=x_train,\n",
    "    param_grid=param_grid,\n",
    "    metric=TS_PRIMARY_METRIC,\n",
    "    ts_cv_splitter=TS_CV_SPLITTER,\n",
    "    hor=CV_HORIZON_SAMPLES,\n",
    "    retrain=True,\n",
    ")\n",
    "\n",
    "# --- model validation ------------------------------------\n",
    "arma_model_eval_results = ModelEvalResult.eval_many(arma_models)\n",
    "\n",
    "# --- save results ----------------------------------------\n",
    "ModelRepo.save_models(arma_model_eval_results)"
   ]
  },
  {
   "cell_type": "code",
   "execution_count": null,
   "metadata": {
    "pycharm": {
     "name": "#%%\n"
    }
   },
   "outputs": [],
   "source": [
    "# -------------------------------------------------------------------------\n",
    "#  AR - Define & tune\n",
    "# -------------------------------------------------------------------------\n",
    "\n",
    "# --- AR settings -------------------------------------\n",
    "final_run = True\n",
    "\n",
    "if final_run:\n",
    "    # -- FINAL --\n",
    "    p_range = [1, 2, 3, 4, 6, 8, 12, 16, 24, 36, 48, 64, 96, 4 * 36, 4 * 48, 4 * 72]\n",
    "    wd_range = [0.0, 1e-4, 1e-3, 1e-2, 1e-1, 1.0, 10.0]\n",
    "else:\n",
    "    # -- TEST --\n",
    "    p_range = [1, 2, 3, 4, 6, 8, 12, 16, 24, 36, 48, 64, 96]\n",
    "    wd_range = [0.0, 1e-3, 1e-2, 1e-1, 1.0]\n",
    "\n",
    "# --- define model ------------------------------------\n",
    "model_ar = TimeSeriesModelARMA(q=0, fit_robustness=0)\n",
    "\n",
    "ar_models = {\n",
    "    \"linear-ar\": model_ar,\n",
    "}  # type: Dict[str, TimeSeriesModel]\n",
    "\n",
    "# --- run cross-validation ----------------------------\n",
    "param_grid = {\n",
    "    \"p\": p_range,\n",
    "    \"wd\": wd_range,\n",
    "}\n",
    "\n",
    "model_ar.cv.grid_search(\n",
    "    x=x_train,\n",
    "    param_grid=param_grid,\n",
    "    metric=TS_PRIMARY_METRIC,\n",
    "    ts_cv_splitter=TS_CV_SPLITTER,\n",
    "    hor=CV_HORIZON_SAMPLES,\n",
    "    retrain=True,\n",
    ")\n",
    "\n",
    "# --- model validation ------------------------------------\n",
    "ar_model_eval_results = ModelEvalResult.eval_many(ar_models)\n",
    "\n",
    "# --- save results ----------------------------------------\n",
    "ModelRepo.save_models(ar_model_eval_results)"
   ]
  }
 ],
 "metadata": {
  "kernelspec": {
   "display_name": "Python 3",
   "language": "python",
   "name": "python3"
  },
  "language_info": {
   "codemirror_mode": {
    "name": "ipython",
    "version": 2
   },
   "file_extension": ".py",
   "mimetype": "text/x-python",
   "name": "python",
   "nbconvert_exporter": "python",
   "pygments_lexer": "ipython2",
   "version": "2.7.6"
  }
 },
 "nbformat": 4,
 "nbformat_minor": 0
}
