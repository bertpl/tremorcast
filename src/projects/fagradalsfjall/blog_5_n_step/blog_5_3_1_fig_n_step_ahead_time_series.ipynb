{
 "cells": [
  {
   "cell_type": "code",
   "execution_count": null,
   "metadata": {
    "pycharm": {
     "name": "#%%\n"
    }
   },
   "outputs": [],
   "source": [
    "from typing import Tuple\n",
    "\n",
    "from matplotlib.patches import FancyBboxPatch\n",
    "import matplotlib.pyplot as plt\n",
    "import numpy as np\n",
    "\n",
    "from src.projects.fagradalsfjall.common.paths import get_blog_post_subfolder\n",
    "from src.tools.matplotlib import plot_style_matplotlib_default"
   ]
  },
  {
   "cell_type": "code",
   "execution_count": null,
   "metadata": {
    "pycharm": {
     "name": "#%%\n"
    }
   },
   "outputs": [],
   "source": [
    "# -------------------------------------------------------------------------\n",
    "#  Output path settings\n",
    "# -------------------------------------------------------------------------\n",
    "path_figures = get_blog_post_subfolder(5, \"figures\")"
   ]
  },
  {
   "cell_type": "code",
   "execution_count": null,
   "metadata": {
    "pycharm": {
     "name": "#%%\n"
    }
   },
   "outputs": [],
   "source": [
    "# -------------------------------------------------------------------------\n",
    "#  Helpers\n",
    "# -------------------------------------------------------------------------\n",
    "def plot_rectangle(\n",
    "    x: np.ndarray, y: np.ndarray, i_first: int, i_last: int, ax: plt.Axes\n",
    ") -> Tuple[float, float, float, float]:\n",
    "    x = x[i_first : i_last + 1]\n",
    "    y = y[i_first : i_last + 1]\n",
    "\n",
    "    x_min = min(x)\n",
    "    x_max = max(x)\n",
    "    y_min = min(y) - 0.02\n",
    "    y_max = max(y) + 0.02\n",
    "\n",
    "    rect = FancyBboxPatch(\n",
    "        (x_min, y_min),\n",
    "        (x_max - x_min),\n",
    "        (y_max - y_min),\n",
    "        boxstyle=\"round,pad=0.4\",\n",
    "        mutation_aspect=1.6 / 20,\n",
    "        linewidth=0,\n",
    "        facecolor=(0.8, 0.8, 0.8),\n",
    "    )\n",
    "    ax.add_patch(rect)\n",
    "\n",
    "    return x_min, x_max, y_min, y_max"
   ]
  },
  {
   "cell_type": "code",
   "execution_count": null,
   "metadata": {
    "pycharm": {
     "name": "#%%\n"
    }
   },
   "outputs": [],
   "source": [
    "# -------------------------------------------------------------------------\n",
    "#  Init figure & axes\n",
    "# -------------------------------------------------------------------------\n",
    "plot_style_matplotlib_default()\n",
    "\n",
    "fig, ax = plt.subplots(nrows=1, ncols=2)\n",
    "ax_left, ax_right = ax[0], ax[1]\n",
    "\n",
    "# -------------------------------------------------------------------------\n",
    "#  Colors\n",
    "# -------------------------------------------------------------------------\n",
    "trace_colors = [(c, 0.5 * c, 1 - c) for c in [0.0, 0.2, 0.4, 0.6, 0.8, 1.0]]\n",
    "traces = [\n",
    "    (5, trace_colors[0]),\n",
    "    (10, trace_colors[1]),\n",
    "    (15, trace_colors[2]),\n",
    "    (20, trace_colors[3]),\n",
    "]\n",
    "\n",
    "# -------------------------------------------------------------------------\n",
    "#  Time series\n",
    "# -------------------------------------------------------------------------\n",
    "np.random.seed(2)\n",
    "x = np.arange(start=1, stop=21)\n",
    "y = 0.1 + (0.1 * x) - (0.002 * (x**2)) + 0.1 * np.random.normal(size=x.shape)\n",
    "\n",
    "for ax, p, n in [(ax_left, 7, 1), (ax_right, 7, 5)]:  # type: plt.Axes, int, int\n",
    "\n",
    "    # plot data\n",
    "    ax.plot(x, y, \"k-o\", markerfacecolor=\"white\")\n",
    "\n",
    "    # plot marked data points\n",
    "    for i_trace, clr in traces:\n",
    "        ax.plot(x[i_trace - 1], y[i_trace - 1], \"o\", markerfacecolor=clr, markeredgecolor=clr)\n",
    "\n",
    "    # past and future\n",
    "    i_now = 9\n",
    "    x_now = x[i_now] + 0.5\n",
    "    light_grey = (0.7, 0.7, 0.7)\n",
    "    grey = (0.5, 0.5, 0.5)\n",
    "    ax.plot([x_now, x_now], [0, 1.6], color=light_grey, linestyle=\"--\", lw=1, zorder=-10)\n",
    "    ax.text(x_now - 0.5, 1.5, \"past\", ha=\"right\", color=grey)\n",
    "    ax.text(x_now + 0.5, 1.5, \"future\", ha=\"left\", color=grey)\n",
    "\n",
    "    # features\n",
    "    x_min, x_max, y_min, y_max = plot_rectangle(x, y, i_now - p + 1, i_now, ax)\n",
    "    ax.text(x_min - 0.4, y_max + 0.075, \"features\", va=\"center\", ha=\"left\")\n",
    "\n",
    "    # targets\n",
    "    x_min, x_max, y_min, y_max = plot_rectangle(x, y, i_now + 1, i_now + n, ax)\n",
    "    ax.text(x_min, y_min - 0.075, \"targets\", va=\"center\", ha=\"left\")\n",
    "\n",
    "    # organize axes\n",
    "    ax.set_xlim(left=0, right=21)\n",
    "    ax.set_ylim(bottom=0, top=1.6)\n",
    "    ax.set_xticks(list(x))\n",
    "    ax.tick_params(axis=\"x\", labelsize=9)\n",
    "\n",
    "    # title\n",
    "    ax.set_title(f\"{n}-step-ahead auto-regressive\\nforecast model\")\n",
    "\n",
    "# -------------------------------------------------------------------------\n",
    "#  Figure properties\n",
    "# -------------------------------------------------------------------------\n",
    "fig.set_size_inches(w=10, h=4.5)\n",
    "fig.tight_layout()"
   ]
  },
  {
   "cell_type": "code",
   "execution_count": null,
   "metadata": {
    "pycharm": {
     "name": "#%%\n"
    }
   },
   "outputs": [],
   "source": [
    "fig.savefig(path_figures / \"n_step_ahead_time_series.png\", dpi=600)"
   ]
  }
 ],
 "metadata": {
  "kernelspec": {
   "display_name": "Python 3",
   "language": "python",
   "name": "python3"
  },
  "language_info": {
   "codemirror_mode": {
    "name": "ipython",
    "version": 2
   },
   "file_extension": ".py",
   "mimetype": "text/x-python",
   "name": "python",
   "nbconvert_exporter": "python",
   "pygments_lexer": "ipython2",
   "version": "2.7.6"
  }
 },
 "nbformat": 4,
 "nbformat_minor": 0
}
