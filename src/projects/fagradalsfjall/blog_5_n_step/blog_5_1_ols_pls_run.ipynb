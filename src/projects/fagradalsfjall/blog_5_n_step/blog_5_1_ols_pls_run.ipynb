{
 "cells": [
  {
   "cell_type": "code",
   "execution_count": null,
   "metadata": {
    "pycharm": {
     "name": "#%%\n"
    }
   },
   "outputs": [],
   "source": [
    "from typing import Dict\n",
    "\n",
    "from src.base.forecasting.models import TimeSeriesModel\n",
    "from src.projects.fagradalsfjall.common.project_settings import CV_HORIZON_SAMPLES, TS_CV_SPLITTER, TS_PRIMARY_METRIC\n",
    "from src.base.forecasting.models.time_series import TimeSeriesModelAutoRegressiveOLS, TimeSeriesModelAutoRegressivePLS\n",
    "from src.projects.fagradalsfjall.common.dataset import load_train_data_numpy\n",
    "from src.projects.fagradalsfjall.common.model_eval import ModelEvalResult\n",
    "from src.projects.fagradalsfjall.common.model_repo import ModelRepo"
   ]
  },
  {
   "cell_type": "markdown",
   "metadata": {
    "pycharm": {
     "name": "#%% md\n"
    }
   },
   "source": [
    "# 1. Training - Cross-validation - Evaluation"
   ]
  },
  {
   "cell_type": "code",
   "execution_count": null,
   "metadata": {
    "pycharm": {
     "name": "#%%\n"
    }
   },
   "outputs": [],
   "source": [
    "# -------------------------------------------------------------------------\n",
    "#  Load TRAINING set\n",
    "# -------------------------------------------------------------------------\n",
    "\n",
    "print(\"Loading training dataset...    \", end=\"\")\n",
    "x_train = load_train_data_numpy()\n",
    "print(\"Done.\")"
   ]
  },
  {
   "cell_type": "code",
   "execution_count": null,
   "metadata": {
    "pycharm": {
     "name": "#%%\n"
    }
   },
   "outputs": [],
   "source": [
    "# -------------------------------------------------------------------------\n",
    "#  OLS - Define & tune\n",
    "# -------------------------------------------------------------------------\n",
    "#\n",
    "# # --- grid settings -----------------------------------\n",
    "# p_range = [1, 2, 4, 8, 16, 32, 48, 64, 4 * 24, 4 * 36, 4 * 48]\n",
    "# n_range = [1, 2, 4, 8, 16, 32, 48, 64, 4 * 24, 4 * 36, 4 * 48]\n",
    "# alpha_range = [0.0, 0.1, 1, 10]\n",
    "#\n",
    "# # --- define model ------------------------------------\n",
    "# model_ols = TimeSeriesModelAutoRegressiveOLS(p=1, n=1)\n",
    "#\n",
    "# ols_models = {\n",
    "#     \"linear-ols\": model_ols,\n",
    "# }  # type: Dict[str, TimeSeriesModel]\n",
    "#\n",
    "# # --- run cross-validation ----------------------------\n",
    "# param_grid = {\"p\": p_range, \"n\": n_range, \"alpha\": alpha_range}\n",
    "#\n",
    "# model_ols.cv.grid_search(\n",
    "#     x=x_train,\n",
    "#     param_grid=param_grid,\n",
    "#     metric=TS_PRIMARY_METRIC,\n",
    "#     ts_cv_splitter=TS_CV_SPLITTER,\n",
    "#     hor=CV_HORIZON_SAMPLES,\n",
    "#     retrain=True,\n",
    "# )\n",
    "#\n",
    "# # --- model validation ------------------------------------\n",
    "# ols_model_eval_results = ModelEvalResult.eval_many(ols_models)\n",
    "#\n",
    "# # --- save results ----------------------------------------\n",
    "# ModelRepo.save_models(ols_model_eval_results)"
   ]
  },
  {
   "cell_type": "code",
   "execution_count": null,
   "metadata": {
    "pycharm": {
     "name": "#%%\n"
    }
   },
   "outputs": [],
   "source": [
    "# -------------------------------------------------------------------------\n",
    "#  PLS - Define & tune\n",
    "# -------------------------------------------------------------------------\n",
    "\n",
    "# --- grid settings -----------------------------------\n",
    "param_grid = {\n",
    "    \"p\": [2, 4, 8, 16, 32, 64, 96, 144, 192],\n",
    "    \"n\": [2, 4, 8, 16, 32, 64, 96, 144, 192],\n",
    "    \"n_components\": [1, 2, 3, 4, 6, 8, 10, 12, 16, 24, 32, 48, 64, 96, 144, 192],\n",
    "}\n",
    "\n",
    "\n",
    "def param_validator(param_set: dict) -> bool:\n",
    "    p, n, n_components = param_set[\"p\"], param_set[\"n\"], param_set[\"n_components\"]\n",
    "    # n_components is limited to min(n_samples, n_features)   (not n_targets!!!)\n",
    "    # See: https://scikit-learn.org/stable/modules/cross_decomposition.html#plsregression\n",
    "    return n_components <= p\n",
    "\n",
    "\n",
    "# --- define model ------------------------------------\n",
    "model_pls = TimeSeriesModelAutoRegressivePLS(p=1, n=1, n_components=1)\n",
    "\n",
    "pls_models = {\n",
    "    \"linear-pls\": model_pls,\n",
    "}  # type: Dict[str, TimeSeriesModel]\n",
    "\n",
    "# --- run cross-validation ----------------------------\n",
    "model_pls.cv.grid_search(\n",
    "    x=x_train,\n",
    "    param_grid=param_grid,\n",
    "    param_validator=param_validator,\n",
    "    metric=TS_PRIMARY_METRIC,\n",
    "    ts_cv_splitter=TS_CV_SPLITTER,\n",
    "    hor=CV_HORIZON_SAMPLES,\n",
    "    retrain=True,\n",
    "    n_jobs=6,\n",
    ")\n",
    "\n",
    "# --- model validation ------------------------------------\n",
    "pls_model_eval_results = ModelEvalResult.eval_many(pls_models)\n",
    "\n",
    "# --- save results ----------------------------------------\n",
    "ModelRepo.save_models(pls_model_eval_results)"
   ]
  },
  {
   "cell_type": "code",
   "execution_count": null,
   "metadata": {
    "pycharm": {
     "name": "#%%\n"
    }
   },
   "outputs": [],
   "source": []
  }
 ],
 "metadata": {
  "kernelspec": {
   "display_name": "Python 3",
   "language": "python",
   "name": "python3"
  },
  "language_info": {
   "codemirror_mode": {
    "name": "ipython",
    "version": 2
   },
   "file_extension": ".py",
   "mimetype": "text/x-python",
   "name": "python",
   "nbconvert_exporter": "python",
   "pygments_lexer": "ipython2",
   "version": "2.7.6"
  }
 },
 "nbformat": 4,
 "nbformat_minor": 0
}
