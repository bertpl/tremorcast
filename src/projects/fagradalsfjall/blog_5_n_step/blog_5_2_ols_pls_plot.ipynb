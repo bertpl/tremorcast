{
 "cells": [
  {
   "cell_type": "code",
   "execution_count": null,
   "metadata": {
    "pycharm": {
     "name": "#%%\n"
    }
   },
   "outputs": [],
   "source": [
    "import os\n",
    "from pathlib import Path\n",
    "\n",
    "from src.projects.fagradalsfjall.common.project_settings import (\n",
    "    TS_PRIMARY_METRIC_DISPLAY_NAME,\n",
    "    PATH_BLOG_POSTS,\n",
    ")\n",
    "from src.projects.fagradalsfjall.common.model_eval_plot_curves import generate_all_rmse_plots\n",
    "from src.projects.fagradalsfjall.common.model_eval_plot_simulations import plot_simulations\n",
    "from src.projects.fagradalsfjall.common.model_repo import ModelRepo\n",
    "from src.projects.fagradalsfjall.common.model_eval import ModelEvalResult, ValidationType\n",
    "from src.projects.fagradalsfjall.common.paths import get_blog_post_subfolder\n",
    "\n",
    "from src.tools.datetime import format_timedelta"
   ]
  },
  {
   "cell_type": "markdown",
   "metadata": {
    "pycharm": {
     "name": "#%% md\n"
    }
   },
   "source": [
    "# 2. Visualization"
   ]
  },
  {
   "cell_type": "code",
   "execution_count": null,
   "metadata": {
    "pycharm": {
     "name": "#%%\n"
    }
   },
   "outputs": [],
   "source": [
    "# -------------------------------------------------------------------------\n",
    "#  Output path settings\n",
    "# -------------------------------------------------------------------------\n",
    "path_results_ols = get_blog_post_subfolder(5, \"results_1_ols\")\n",
    "path_results_pls = get_blog_post_subfolder(5, \"results_2_pls\")\n",
    "path_results_final = get_blog_post_subfolder(5, \"results_3_final\")"
   ]
  },
  {
   "cell_type": "code",
   "execution_count": null,
   "metadata": {
    "pycharm": {
     "name": "#%%\n"
    }
   },
   "outputs": [],
   "source": [
    "# -------------------------------------------------------------------------\n",
    "#  Load data\n",
    "# -------------------------------------------------------------------------\n",
    "\n",
    "# --- load models -------------------------------------\n",
    "prev_model_eval_results = ModelRepo.load_models([\"naive-mean\", \"naive-constant\", \"naive-exp-decay\", \"linear-ar\"])\n",
    "ols_model_eval_results = ModelRepo.load_models([\"linear-ols\"])\n",
    "pls_model_eval_results = ModelRepo.load_models([\"linear-pls\"])\n",
    "\n",
    "# --- post-processing ---------------------------------\n",
    "model_ols = ols_model_eval_results[\"linear-ols\"].ts_model\n",
    "model_pls = pls_model_eval_results[\"linear-pls\"].ts_model"
   ]
  },
  {
   "cell_type": "code",
   "execution_count": null,
   "metadata": {
    "pycharm": {
     "name": "#%%\n"
    }
   },
   "outputs": [],
   "source": [
    "# -------------------------------------------------------------------------\n",
    "#  PLOTS - OLS - Cross-Validation\n",
    "# -------------------------------------------------------------------------\n",
    "\n",
    "# --- 2D plots ----------------------------------------\n",
    "alpha_values = model_ols.cv.results.all_param_values()[\"alpha\"]\n",
    "for alpha in alpha_values:\n",
    "    fig, ax = model_ols.cv.results.plot_2d(x_param=\"p\", y_param=\"n\", param_filter=dict(alpha=alpha)).create(w=12, h=8)\n",
    "    fig.suptitle(f\"Cross-validation results - 'linear-ols' - [alpha={alpha}]\")\n",
    "\n",
    "    wd_str = str(alpha).replace(\".\", \"_\")\n",
    "    fig.savefig(path_results_ols / f\"cv_2d_pn_alpha_{wd_str}.png\", dpi=600)\n",
    "\n",
    "# --- 1D plots --- cross-section --------------------------\n",
    "best_result = model_ols.cv.results.best_result.params\n",
    "\n",
    "# settings\n",
    "param_names = [\"p\", \"n\", \"alpha\"]\n",
    "\n",
    "# create all 3 plots\n",
    "for sweep_param in param_names:\n",
    "\n",
    "    # construct param filter & title\n",
    "    param_filter = {param_name: best_result[param_name] for param_name in param_names if param_name != sweep_param}\n",
    "    title_postfix = \",\".join(\n",
    "        [f\"{param_name}={best_result[param_name]}\" for param_name in param_names if param_name != sweep_param]\n",
    "    )\n",
    "\n",
    "    # actual plot\n",
    "    fig, ax = (\n",
    "        model_ols.cv.results.plot_1d(\n",
    "            param_names=sweep_param,\n",
    "            param_filter=param_filter,\n",
    "        )\n",
    "        .set_fig_title(f\"Cross-validation - 'linear-ols' - [{title_postfix}]\")\n",
    "        .set_y_label(TS_PRIMARY_METRIC_DISPLAY_NAME)\n",
    "        .create(w=12, h=8)\n",
    "    )\n",
    "    fig.savefig(path_results_ols / f\"cv_1d_cross_section_{sweep_param}.png\", dpi=600)\n",
    "\n",
    "# --- 1D plots --- best result ----------------------------\n",
    "for param_name in param_names:\n",
    "\n",
    "    fig, ax = (\n",
    "        model_ols.cv.results.plot_1d(\n",
    "            param_names=param_name,\n",
    "        )\n",
    "        .set_fig_title(f\"Cross-validation - 'linear-ols' - best results for each value of '{param_name}'\")\n",
    "        .set_y_label(TS_PRIMARY_METRIC_DISPLAY_NAME)\n",
    "        .set_x_label(param_name)\n",
    "        .create(w=12, h=8)\n",
    "    )\n",
    "    fig.savefig(path_results_ols / f\"cv_1d_best_{param_name}.png\", dpi=600)"
   ]
  },
  {
   "cell_type": "code",
   "execution_count": null,
   "metadata": {
    "pycharm": {
     "name": "#%%\n"
    }
   },
   "outputs": [],
   "source": [
    "# -------------------------------------------------------------------------\n",
    "#  PLOTS - OLS - Simulations\n",
    "# -------------------------------------------------------------------------\n",
    "\n",
    "# RMSE curves\n",
    "model_eval_results = prev_model_eval_results | ols_model_eval_results\n",
    "generate_all_rmse_plots(model_eval_results, path_results_ols, highlight_models=[\"linear-ols\"])\n",
    "\n",
    "# simulations\n",
    "plot_simulations(ols_model_eval_results, path_results_ols)"
   ]
  },
  {
   "cell_type": "code",
   "execution_count": null,
   "metadata": {
    "pycharm": {
     "name": "#%%\n"
    }
   },
   "outputs": [],
   "source": [
    "# -------------------------------------------------------------------------\n",
    "#  PLOTS - PLS - Cross-Validation\n",
    "# -------------------------------------------------------------------------\n",
    "\n",
    "# --- 2D plots ----------------------------------------\n",
    "n_values = model_pls.cv.results.all_param_values()[\"n\"]\n",
    "\n",
    "for n in n_values:\n",
    "\n",
    "    fig, ax = (\n",
    "        model_pls.cv.results.plot_2d(x_param=\"p\", y_param=\"n_components\", param_filter={\"n\": n})\n",
    "        .with_y_label(\"n_pls\")\n",
    "        .create(w=12, h=8)\n",
    "    )\n",
    "    fig.suptitle(f\"Cross-validation results - 'linear-pls' - [n={n}]\")\n",
    "\n",
    "    fig.savefig(path_results_pls / f\"cv_2d_p_npls_n_{n}.png\", dpi=600)\n",
    "\n",
    "\n",
    "# --- 1D plots --- best -----------------------------------\n",
    "for param_name, display_name in [(\"p\", \"p\"), (\"n\", \"n\"), (\"n_components\", \"n_pls\")]:\n",
    "\n",
    "    fig, ax = (\n",
    "        model_pls.cv.results.plot_1d(\n",
    "            param_names=param_name,\n",
    "        )\n",
    "        .set_fig_title(f\"Cross-validation - 'linear-pls' - best results for each value of '{display_name}'\")\n",
    "        .set_x_label(display_name)\n",
    "        .set_y_label(TS_PRIMARY_METRIC_DISPLAY_NAME)\n",
    "        .create(w=12, h=8)\n",
    "    )\n",
    "    fig.savefig(path_results_pls / f\"cv_1d_best_{display_name}.png\", dpi=600)"
   ]
  },
  {
   "cell_type": "code",
   "execution_count": null,
   "metadata": {
    "pycharm": {
     "name": "#%%\n"
    }
   },
   "outputs": [],
   "source": [
    "# -------------------------------------------------------------------------\n",
    "#  PLOTS - PLS - Simulations\n",
    "# -------------------------------------------------------------------------\n",
    "\n",
    "# RMSE curves\n",
    "model_eval_results = prev_model_eval_results | pls_model_eval_results\n",
    "generate_all_rmse_plots(model_eval_results, path_results_pls, highlight_models=[\"linear-pls\"])\n",
    "\n",
    "# simulations\n",
    "plot_simulations(pls_model_eval_results, path_results_pls)"
   ]
  },
  {
   "cell_type": "code",
   "execution_count": null,
   "metadata": {
    "pycharm": {
     "name": "#%%\n"
    }
   },
   "outputs": [],
   "source": [
    "# -------------------------------------------------------------------------\n",
    "#  PLOTS - FINAL\n",
    "# -------------------------------------------------------------------------\n",
    "\n",
    "# RMSE curves\n",
    "all_model_eval_results = prev_model_eval_results | ols_model_eval_results | pls_model_eval_results\n",
    "generate_all_rmse_plots(all_model_eval_results, path_results_final, highlight_models=[\"linear-ols\", \"linear-pls\"])\n",
    "\n",
    "# simulations\n",
    "plot_simulations(all_model_eval_results, path_results_final)"
   ]
  },
  {
   "cell_type": "code",
   "execution_count": null,
   "metadata": {
    "pycharm": {
     "name": "#%%\n"
    }
   },
   "outputs": [],
   "source": [
    "df_metrics = ModelEvalResult.all_metric_values_as_df(all_model_eval_results, ValidationType.TEST)\n",
    "\n",
    "df_metrics[\"max_accurate_lead_time_samples\"] = df_metrics[\"max_accurate_lead_time\"].copy()\n",
    "df_metrics[\"max_accurate_lead_time\"] = df_metrics[\"max_accurate_lead_time\"].apply(\n",
    "    lambda x: format_timedelta(x * 15 * 60)\n",
    ")\n",
    "\n",
    "display(df_metrics)"
   ]
  },
  {
   "cell_type": "code",
   "execution_count": null,
   "metadata": {
    "pycharm": {
     "name": "#%%\n"
    }
   },
   "outputs": [],
   "source": []
  }
 ],
 "metadata": {
  "kernelspec": {
   "display_name": "Python 3",
   "language": "python",
   "name": "python3"
  },
  "language_info": {
   "codemirror_mode": {
    "name": "ipython",
    "version": 2
   },
   "file_extension": ".py",
   "mimetype": "text/x-python",
   "name": "python",
   "nbconvert_exporter": "python",
   "pygments_lexer": "ipython2",
   "version": "2.7.6"
  }
 },
 "nbformat": 4,
 "nbformat_minor": 0
}
