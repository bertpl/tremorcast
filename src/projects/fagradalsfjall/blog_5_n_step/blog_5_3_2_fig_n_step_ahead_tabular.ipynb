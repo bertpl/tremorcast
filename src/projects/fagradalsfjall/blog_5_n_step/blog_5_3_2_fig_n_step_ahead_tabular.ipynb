{
 "cells": [
  {
   "cell_type": "code",
   "execution_count": null,
   "metadata": {
    "pycharm": {
     "name": "#%%\n"
    }
   },
   "outputs": [],
   "source": [
    "import dataclasses\n",
    "from typing import Tuple, List, Any\n",
    "\n",
    "from matplotlib.patches import Rectangle\n",
    "import matplotlib.pyplot as plt\n",
    "import numpy as np\n",
    "\n",
    "from src.projects.fagradalsfjall.common.paths import get_blog_post_subfolder\n",
    "from src.tools.matplotlib import plot_style_matplotlib_default"
   ]
  },
  {
   "cell_type": "code",
   "execution_count": null,
   "metadata": {
    "pycharm": {
     "name": "#%%\n"
    }
   },
   "outputs": [],
   "source": [
    "# -------------------------------------------------------------------------\n",
    "#  Output path settings\n",
    "# -------------------------------------------------------------------------\n",
    "path_figures = get_blog_post_subfolder(5, \"figures\")"
   ]
  },
  {
   "cell_type": "code",
   "execution_count": null,
   "metadata": {
    "pycharm": {
     "name": "#%%\n"
    }
   },
   "outputs": [],
   "source": [
    "# -------------------------------------------------------------------------\n",
    "#  Helpers\n",
    "# -------------------------------------------------------------------------\n",
    "@dataclasses.dataclass\n",
    "class Matrix:\n",
    "    n_rows: int\n",
    "    n_cols: int\n",
    "    x_left: float\n",
    "    y_top: float\n",
    "\n",
    "    def row_to_y(self, row: int) -> float:\n",
    "        return self.y_top - row\n",
    "\n",
    "    def col_to_x(self, col: int) -> float:\n",
    "        return self.x_left + col\n",
    "\n",
    "    def plot_cell_range(\n",
    "        self,\n",
    "        ax: plt.Axes,\n",
    "        row_from: int,\n",
    "        row_to: int,\n",
    "        col_from: int,\n",
    "        col_to: int,\n",
    "        edge_clr=(0, 0, 0),\n",
    "        face_clr=(0, 0, 0, 0),\n",
    "        zorder=0,\n",
    "    ):\n",
    "        x_left = self.col_to_x(col_from) - 0.5\n",
    "        x_right = self.col_to_x(col_to) + 0.5\n",
    "        y_top = self.row_to_y(row_from) + 0.5\n",
    "        y_bottom = self.row_to_y(row_to) - 0.5\n",
    "        rect = Rectangle(\n",
    "            (x_left, y_bottom),\n",
    "            x_right - x_left,\n",
    "            y_top - y_bottom,\n",
    "            edgecolor=edge_clr,\n",
    "            facecolor=face_clr,\n",
    "            zorder=zorder,\n",
    "        )\n",
    "        ax.add_patch(rect)\n",
    "\n",
    "    def plot(self, ax: plt.Axes, name: str):\n",
    "        self.plot_cell_range(ax, 0, self.n_rows - 1, 0, self.n_cols - 1, zorder=1)\n",
    "        ax.text(self.x_left - 0.5, self.y_top + 1, name, va=\"center\", ha=\"left\", fontsize=9)\n",
    "\n",
    "    def show_row_count(self, ax: plt.Axes, clr=(0, 0, 0), inside: bool = False):\n",
    "        x = self.x_left + (-0.2 if inside else -1.5)\n",
    "        y = self.row_to_y((self.n_rows - 1) / 2)\n",
    "        ax.text(x, y, f\"{self.n_rows}\", fontsize=8, color=clr, va=\"center\", ha=\"center\")\n",
    "\n",
    "    def show_col_count(self, ax: plt.Axes, clr=(0, 0, 0), inside: bool = False):\n",
    "        x = self.col_to_x((self.n_cols - 1) / 2)\n",
    "        y = self.row_to_y(self.n_rows - 1) + (0 if inside else -1.5)\n",
    "        ax.text(x, y, f\"{self.n_cols}\", fontsize=8, color=clr, va=\"center\", ha=\"center\")\n",
    "\n",
    "\n",
    "def plot_matrices(ax: plt.Axes, n_samples: int, p: int, n: int, traces: List[Tuple[int, Any]]):\n",
    "\n",
    "    k = n_samples - (n + p - 1)\n",
    "    t_features = np.array([[1 + row + col for col in range(p)] for row in range(k)])\n",
    "    t_targets = np.array([[1 + p + row + col for col in range(n)] for row in range(k)])\n",
    "\n",
    "    # initialize matrices\n",
    "    features = Matrix(n_rows=k, n_cols=p, x_left=-p, y_top=(k - 1) / 2)\n",
    "    model = Matrix(n_rows=p, n_cols=n, x_left=1, y_top=(p - 1) / 2)\n",
    "    targets = Matrix(n_rows=k, n_cols=n, x_left=n + 2, y_top=(k - 1) / 2)\n",
    "\n",
    "    # colors\n",
    "    transparent = (0, 0, 0, 0)\n",
    "    light_grey = (0.7, 0.7, 0.7)\n",
    "    green = (0.1, 0.6, 0.4)\n",
    "\n",
    "    # features\n",
    "    features.plot(ax, \"features\")\n",
    "    features.plot_cell_range(ax, 3, 3, 0, p - 1, edge_clr=transparent, face_clr=light_grey)\n",
    "    for i_trace, clr in traces:\n",
    "        for i_row in range(k):\n",
    "            for i_col in range(p):\n",
    "                if t_features[i_row, i_col] == i_trace:\n",
    "                    features.plot_cell_range(\n",
    "                        ax,\n",
    "                        col_from=i_col,\n",
    "                        col_to=i_col,\n",
    "                        row_from=i_row,\n",
    "                        row_to=i_row,\n",
    "                        edge_clr=transparent,\n",
    "                        face_clr=clr,\n",
    "                    )\n",
    "\n",
    "    features.show_row_count(ax)\n",
    "    features.show_col_count(ax)\n",
    "\n",
    "    # model\n",
    "    ax.text(0, 0, \"x\", va=\"center\", ha=\"center\")\n",
    "    model.plot_cell_range(ax, 0, p - 1, 0, n - 1, edge_clr=transparent, face_clr=green)\n",
    "    model.plot(ax, \"\")\n",
    "\n",
    "    model.show_row_count(ax, inside=True, clr=(1, 1, 1))\n",
    "    model.show_col_count(ax, inside=True, clr=(1, 1, 1))\n",
    "\n",
    "    # targets\n",
    "    ax.text(n + 1, 0, \"=\", va=\"center\", ha=\"center\")\n",
    "    targets.plot(ax, \"targets\")\n",
    "    targets.plot_cell_range(ax, 3, 3, 0, n - 1, edge_clr=transparent, face_clr=light_grey)\n",
    "    for i_trace, clr in traces:\n",
    "        for i_row in range(k):\n",
    "            for i_col in range(n):\n",
    "                if t_targets[i_row, i_col] == i_trace:\n",
    "                    targets.plot_cell_range(\n",
    "                        ax,\n",
    "                        col_from=i_col,\n",
    "                        col_to=i_col,\n",
    "                        row_from=i_row,\n",
    "                        row_to=i_row,\n",
    "                        edge_clr=transparent,\n",
    "                        face_clr=clr,\n",
    "                    )\n",
    "\n",
    "    targets.show_col_count(ax)"
   ]
  },
  {
   "cell_type": "code",
   "execution_count": null,
   "metadata": {
    "pycharm": {
     "name": "#%%\n"
    }
   },
   "outputs": [],
   "source": [
    "# -------------------------------------------------------------------------\n",
    "#  Init figure & axes\n",
    "# -------------------------------------------------------------------------\n",
    "plot_style_matplotlib_default()\n",
    "\n",
    "fig, ax = plt.subplots(nrows=1, ncols=2)\n",
    "ax_left, ax_right = ax[0], ax[1]  # type: plt.Axes, plt.Axes\n",
    "\n",
    "\n",
    "# -------------------------------------------------------------------------\n",
    "#  Traces\n",
    "# -------------------------------------------------------------------------\n",
    "trace_colors = [(c, 0.5 * c, 1 - c) for c in [0.0, 0.2, 0.4, 0.6, 0.8, 1.0]]\n",
    "traces = [\n",
    "    (5, trace_colors[0]),\n",
    "    (10, trace_colors[1]),\n",
    "    (15, trace_colors[2]),\n",
    "    (20, trace_colors[3]),\n",
    "    (25, trace_colors[4]),\n",
    "    (30, trace_colors[5]),\n",
    "]\n",
    "\n",
    "# -------------------------------------------------------------------------\n",
    "#  1-step-ahead\n",
    "# -------------------------------------------------------------------------\n",
    "plot_matrices(ax_left, n_samples=30, p=7, n=1, traces=traces)\n",
    "\n",
    "ax_left.set_axis_off()\n",
    "ax_left.set_xlim(left=-15, right=10)\n",
    "ax_left.set_ylim(bottom=-13, top=15)\n",
    "\n",
    "ax_left.set_title(\"tabular data set\\nfor 1-step-ahead auto-regressive model\")\n",
    "\n",
    "# -------------------------------------------------------------------------\n",
    "#  n-step-ahead\n",
    "# -------------------------------------------------------------------------\n",
    "plot_matrices(ax_right, n_samples=30, p=7, n=5, traces=traces)\n",
    "\n",
    "ax_right.set_axis_off()\n",
    "ax_right.set_xlim(left=-10, right=15)\n",
    "ax_right.set_ylim(bottom=-13, top=15)\n",
    "\n",
    "ax_right.set_title(\"tabular data set\\nfor 5-step-ahead auto-regressive model\")\n",
    "\n",
    "\n",
    "# -------------------------------------------------------------------------\n",
    "#  Figure properties\n",
    "# -------------------------------------------------------------------------\n",
    "fig.set_size_inches(w=10, h=5)\n",
    "fig.tight_layout()"
   ]
  },
  {
   "cell_type": "code",
   "execution_count": null,
   "metadata": {
    "pycharm": {
     "name": "#%%\n"
    }
   },
   "outputs": [],
   "source": [
    "fig.savefig(path_figures / \"n_step_ahead_tabular.png\", dpi=600)"
   ]
  }
 ],
 "metadata": {
  "kernelspec": {
   "display_name": "Python 3",
   "language": "python",
   "name": "python3"
  },
  "language_info": {
   "codemirror_mode": {
    "name": "ipython",
    "version": 2
   },
   "file_extension": ".py",
   "mimetype": "text/x-python",
   "name": "python",
   "nbconvert_exporter": "python",
   "pygments_lexer": "ipython2",
   "version": "2.7.6"
  }
 },
 "nbformat": 4,
 "nbformat_minor": 0
}
