{
 "cells": [
  {
   "cell_type": "code",
   "execution_count": null,
   "metadata": {
    "pycharm": {
     "name": "#%%\n"
    }
   },
   "outputs": [],
   "source": [
    "import dataclasses\n",
    "from typing import Tuple, List, Any\n",
    "\n",
    "from matplotlib.patches import Polygon, FancyBboxPatch\n",
    "import matplotlib.pyplot as plt\n",
    "import numpy as np\n",
    "\n",
    "from src.projects.fagradalsfjall.common.paths import get_blog_post_subfolder\n",
    "from src.tools.matplotlib import plot_style_matplotlib_default"
   ]
  },
  {
   "cell_type": "code",
   "execution_count": null,
   "metadata": {
    "pycharm": {
     "name": "#%%\n"
    }
   },
   "outputs": [],
   "source": [
    "# -------------------------------------------------------------------------\n",
    "#  Output path settings\n",
    "# -------------------------------------------------------------------------\n",
    "path_figures = get_blog_post_subfolder(5, \"figures\")"
   ]
  },
  {
   "cell_type": "code",
   "execution_count": null,
   "metadata": {
    "pycharm": {
     "name": "#%%\n"
    }
   },
   "outputs": [],
   "source": [
    "# -------------------------------------------------------------------------\n",
    "#  Helpers\n",
    "# -------------------------------------------------------------------------\n",
    "def plot_vector(ax: plt.Axes, x_pos: float, n: int, dot_clr: tuple, edge_clr: tuple):\n",
    "\n",
    "    y_pos = [i - ((n - 1) / 2) for i in range(n)]\n",
    "    for i in range(n):\n",
    "        ax.plot(x_pos, y_pos[i], \"o\", markeredgecolor=dot_clr, markerfacecolor=dot_clr)\n",
    "\n",
    "    rect = FancyBboxPatch(\n",
    "        (x_pos, min(y_pos)),\n",
    "        0,\n",
    "        n - 1,\n",
    "        boxstyle=\"round,pad=0.4,rounding_size=0.4\",\n",
    "        mutation_aspect=1.0,\n",
    "        linewidth=2,\n",
    "        facecolor=(0, 0, 0, 0),\n",
    "        edgecolor=edge_clr,\n",
    "    )\n",
    "    ax.add_patch(rect)\n",
    "\n",
    "    ax.text(x_pos, min(y_pos) - 0.75, f\"{n}\", va=\"center\", ha=\"center\", fontsize=9)\n",
    "\n",
    "\n",
    "def plot_mapping(ax: plt.Axes, x_from: float, x_to: float, n_from: float, n_to: float, clr_from, clr_to, margin=0.7):\n",
    "\n",
    "    # --- prep x & y --------------------------------------\n",
    "    y_from = (n_from - 1) / 2  # vertically spanning [-y_from, y_from]\n",
    "    y_to = (n_to - 1) / 2  # vertically spanning [-y_to, y_to]\n",
    "\n",
    "    # --- connect to point on curvature -------------------\n",
    "    x_from_orig, x_to_orig = x_from, x_to\n",
    "    connector_angle = 45\n",
    "    curve_radius = 0.4\n",
    "\n",
    "    sn, cs = np.sin(np.deg2rad(connector_angle)), np.cos(np.deg2rad(connector_angle))\n",
    "\n",
    "    x_from += sn * curve_radius\n",
    "    x_to -= sn * curve_radius\n",
    "    y_from += cs * curve_radius\n",
    "    y_to += cs * curve_radius\n",
    "\n",
    "    # --- adjust for margin -------------------------------\n",
    "    # we want to update x_from to x_from+margin and x_to to x_to-margin,\n",
    "    #  while adjusting the other parameters accordingly\n",
    "    y_from, y_to = (\n",
    "        np.interp(x_from_orig + margin, [x_from, x_to], [y_from, y_to]),\n",
    "        np.interp(x_to_orig - margin, [x_from, x_to], [y_from, y_to]),\n",
    "    )\n",
    "    x_from = x_from_orig + margin\n",
    "    x_to = x_to_orig - margin\n",
    "\n",
    "    # --- plot with gradient ------------------------------\n",
    "    n_steps = 100\n",
    "    for i in range(n_steps):\n",
    "\n",
    "        sub_x_from = x_from + (i / n_steps) * (x_to - x_from)\n",
    "        sub_x_to = x_from + ((i + 1.1) / n_steps) * (x_to - x_from)\n",
    "        sub_y_from = y_from + (i / n_steps) * (y_to - y_from)\n",
    "        sub_y_to = y_from + ((i + 1.1) / n_steps) * (y_to - y_from)\n",
    "        c = (i + 0.5) / n_steps\n",
    "        clr = tuple([c_from + c * (c_to - c_from) for c_from, c_to in zip(clr_from, clr_to)])\n",
    "\n",
    "        xy = np.array(\n",
    "            [\n",
    "                [sub_x_from, sub_y_from],\n",
    "                [sub_x_to, sub_y_to],\n",
    "                [sub_x_to, -sub_y_to],\n",
    "                [sub_x_from, -sub_y_from],\n",
    "            ]\n",
    "        )\n",
    "\n",
    "        poly = Polygon(xy, closed=True, edgecolor=clr, facecolor=clr, linewidth=0)\n",
    "        ax.add_patch(poly)\n",
    "\n",
    "    ax.text((x_from + x_to) / 2, 0, f\"{n_from}x{n_to}\\n\\nlinear\\nmapping\", va=\"center\", ha=\"center\")"
   ]
  },
  {
   "cell_type": "code",
   "execution_count": null,
   "metadata": {
    "pycharm": {
     "name": "#%%\n"
    }
   },
   "outputs": [],
   "source": [
    "# -------------------------------------------------------------------------\n",
    "#  Init figure & axes\n",
    "# -------------------------------------------------------------------------\n",
    "plot_style_matplotlib_default()\n",
    "fig, ax = plt.subplots(nrows=1, ncols=2)\n",
    "ax_left, ax_right = ax[0], ax[1]  # type: plt.Axes, plt.Axes\n",
    "\n",
    "# -------------------------------------------------------------------------\n",
    "#  Actual plotting\n",
    "# -------------------------------------------------------------------------\n",
    "\n",
    "# --- colors ------------------------------------------\n",
    "dark_grey = (0.3, 0.3, 0.3)\n",
    "light_grey = (0.7, 0.7, 0.7)\n",
    "\n",
    "gradient_from = (0.9, 0.9, 0.9)\n",
    "gradient_to = (0.95, 0.95, 0.95)\n",
    "\n",
    "# --- OLS ---------------------------------------------\n",
    "plot_vector(ax_left, -2, 7, dark_grey, light_grey)\n",
    "plot_vector(ax_left, 2, 5, dark_grey, light_grey)\n",
    "\n",
    "plot_mapping(ax_left, -2, 2, 7, 5, gradient_from, gradient_to)\n",
    "\n",
    "ax_left.set_axis_off()\n",
    "ax_left.set_xlim(left=-4.5, right=4.5)\n",
    "ax_left.set_ylim(bottom=-4, top=4.5)\n",
    "\n",
    "ax_left.set_title(\"Ordinary Least Squares (OLS)\")\n",
    "\n",
    "# --- PLS ---------------------------------------------\n",
    "plot_vector(ax_right, -3, 7, dark_grey, light_grey)\n",
    "plot_vector(ax_right, 0, 2, dark_grey, light_grey)\n",
    "plot_vector(ax_right, 3, 5, dark_grey, light_grey)\n",
    "\n",
    "plot_mapping(ax_right, -3, 0, 7, 2, gradient_from, gradient_to)\n",
    "plot_mapping(ax_right, 0, 3, 2, 5, gradient_from, gradient_to)\n",
    "\n",
    "ax_right.set_axis_off()\n",
    "ax_right.set_xlim(left=-4.5, right=4.5)\n",
    "ax_right.set_ylim(bottom=-4, top=4.5)\n",
    "\n",
    "ax_right.set_title(\"Partial Least Squares (PLS)\")\n",
    "\n",
    "# -------------------------------------------------------------------------\n",
    "#  Figure properties\n",
    "# -------------------------------------------------------------------------\n",
    "fig.set_size_inches(w=10, h=5)\n",
    "fig.tight_layout()"
   ]
  },
  {
   "cell_type": "code",
   "execution_count": null,
   "metadata": {
    "pycharm": {
     "name": "#%%\n"
    }
   },
   "outputs": [],
   "source": [
    "fig.savefig(path_figures / \"pls_vs_ols.png\", dpi=600)"
   ]
  }
 ],
 "metadata": {
  "kernelspec": {
   "display_name": "Python 3",
   "language": "python",
   "name": "python3"
  },
  "language_info": {
   "codemirror_mode": {
    "name": "ipython",
    "version": 2
   },
   "file_extension": ".py",
   "mimetype": "text/x-python",
   "name": "python",
   "nbconvert_exporter": "python",
   "pygments_lexer": "ipython2",
   "version": "2.7.6"
  }
 },
 "nbformat": 4,
 "nbformat_minor": 0
}
