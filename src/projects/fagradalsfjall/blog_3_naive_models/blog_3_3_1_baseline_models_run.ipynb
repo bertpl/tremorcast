{
 "cells": [
  {
   "cell_type": "code",
   "execution_count": null,
   "metadata": {
    "pycharm": {
     "name": "#%%\n"
    }
   },
   "outputs": [],
   "source": [
    "from typing import Dict\n",
    "\n",
    "from src.base.forecasting.models import TimeSeriesModel\n",
    "from src.projects.fagradalsfjall.common.project_settings import (\n",
    "    CV_HORIZON_SAMPLES,\n",
    "    TS_CV_SPLITTER,\n",
    "    TS_PRIMARY_METRIC,\n",
    ")\n",
    "from src.base.forecasting.models.time_series import (\n",
    "    TimeSeriesModelNaiveConstant,\n",
    "    TimeSeriesModelNaiveExponentialDecay,\n",
    "    TimeSeriesModelNaiveMean,\n",
    ")\n",
    "from src.projects.fagradalsfjall.common.dataset import load_train_data_numpy\n",
    "from src.projects.fagradalsfjall.common.model_eval import ModelEvalResult\n",
    "from src.projects.fagradalsfjall.common.model_repo import ModelRepo"
   ]
  },
  {
   "cell_type": "markdown",
   "metadata": {
    "pycharm": {
     "name": "#%% md\n"
    }
   },
   "source": [
    "# 1. Training - Cross-validation - Evaluation"
   ]
  },
  {
   "cell_type": "code",
   "execution_count": null,
   "metadata": {
    "pycharm": {
     "name": "#%%\n"
    }
   },
   "outputs": [],
   "source": [
    "# -------------------------------------------------------------------------\n",
    "#  Load TRAINING set\n",
    "# -------------------------------------------------------------------------\n",
    "print(\"Loading training dataset...    \", end=\"\")\n",
    "x_train = load_train_data_numpy()\n",
    "print(\"Done.\")"
   ]
  },
  {
   "cell_type": "code",
   "execution_count": null,
   "metadata": {
    "pycharm": {
     "name": "#%%\n"
    }
   },
   "outputs": [],
   "source": [
    "# -------------------------------------------------------------------------\n",
    "#  NAIVE MODELS - Define, train & validate\n",
    "# -------------------------------------------------------------------------\n",
    "\n",
    "# --- define ----------------------------------------------\n",
    "naive_models = {\n",
    "    \"naive-constant\": TimeSeriesModelNaiveConstant(),\n",
    "    \"naive-mean\": TimeSeriesModelNaiveMean(),\n",
    "}  # type: Dict[str, TimeSeriesModel]\n",
    "\n",
    "# --- train -----------------------------------------------\n",
    "for model_name, model in naive_models.items():\n",
    "    model.fit(x_train)\n",
    "\n",
    "# --- validate --------------------------------------------\n",
    "naive_model_eval_results = ModelEvalResult.eval_many(naive_models)\n",
    "\n",
    "# --- save results ----------------------------------------\n",
    "ModelRepo.save_models(naive_model_eval_results)"
   ]
  },
  {
   "cell_type": "code",
   "execution_count": null,
   "metadata": {
    "pycharm": {
     "name": "#%%\n"
    }
   },
   "outputs": [],
   "source": [
    "# -------------------------------------------------------------------------\n",
    "#  EXPONENTIAL DECAY - Define, tune & validate\n",
    "# -------------------------------------------------------------------------\n",
    "\n",
    "# --- define model ------------------------------------\n",
    "model_exp_decay = TimeSeriesModelNaiveExponentialDecay()\n",
    "cv_models = {\n",
    "    \"naive-exp-decay\": model_exp_decay,\n",
    "}  # type: Dict[str, TimeSeriesModel]\n",
    "\n",
    "# --- run cross-validation ----------------------------\n",
    "param_grid = {\"tau\": [1, 2, 3, 4, 5, 6, 8, 12, 16, 20, 24, 30, 36, 48, 60, 72, 96, 120, 144]}\n",
    "\n",
    "model_exp_decay.cv.grid_search(\n",
    "    x=x_train,\n",
    "    param_grid=param_grid,\n",
    "    metric=TS_PRIMARY_METRIC,\n",
    "    ts_cv_splitter=TS_CV_SPLITTER,\n",
    "    hor=CV_HORIZON_SAMPLES,\n",
    "    retrain=True,\n",
    ")\n",
    "\n",
    "# --- validate ----------------------------------------\n",
    "cv_model_eval_results = ModelEvalResult.eval_many(cv_models)\n",
    "\n",
    "# --- save results ----------------------------------------\n",
    "ModelRepo.save_models(cv_model_eval_results)"
   ]
  }
 ],
 "metadata": {
  "kernelspec": {
   "display_name": "Python 3",
   "language": "python",
   "name": "python3"
  },
  "language_info": {
   "codemirror_mode": {
    "name": "ipython",
    "version": 2
   },
   "file_extension": ".py",
   "mimetype": "text/x-python",
   "name": "python",
   "nbconvert_exporter": "python",
   "pygments_lexer": "ipython2",
   "version": "2.7.6"
  }
 },
 "nbformat": 4,
 "nbformat_minor": 0
}
