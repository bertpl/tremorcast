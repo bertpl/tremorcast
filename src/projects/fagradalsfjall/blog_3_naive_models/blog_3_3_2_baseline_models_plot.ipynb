{
 "cells": [
  {
   "cell_type": "code",
   "execution_count": null,
   "metadata": {
    "pycharm": {
     "name": "#%%\n"
    }
   },
   "outputs": [],
   "source": [
    "from src.tools.datetime import format_timedelta\n",
    "\n",
    "from src.projects.fagradalsfjall.common.paths import get_blog_post_subfolder\n",
    "from src.projects.fagradalsfjall.common.project_settings import TS_PRIMARY_METRIC_DISPLAY_NAME\n",
    "from src.projects.fagradalsfjall.common.model_eval_plot_curves import generate_all_rmse_plots\n",
    "from src.projects.fagradalsfjall.common.model_eval_plot_simulations import plot_simulations\n",
    "from src.projects.fagradalsfjall.common.model_repo import ModelRepo\n",
    "from src.projects.fagradalsfjall.common.model_eval import ModelEvalResult, ValidationType"
   ]
  },
  {
   "cell_type": "markdown",
   "metadata": {
    "pycharm": {
     "name": "#%% md\n"
    }
   },
   "source": [
    "# 2. Visualization"
   ]
  },
  {
   "cell_type": "code",
   "execution_count": null,
   "metadata": {
    "pycharm": {
     "name": "#%%\n"
    }
   },
   "outputs": [],
   "source": [
    "# -------------------------------------------------------------------------\n",
    "#  Output path settings\n",
    "# -------------------------------------------------------------------------\n",
    "path_results_naive = get_blog_post_subfolder(3, \"results_1_naive\")\n",
    "path_results_exp_decay = get_blog_post_subfolder(3, \"results_2_exp_decay\")"
   ]
  },
  {
   "cell_type": "code",
   "execution_count": null,
   "metadata": {
    "pycharm": {
     "name": "#%%\n"
    }
   },
   "outputs": [],
   "source": [
    "# -------------------------------------------------------------------------\n",
    "#  Load data\n",
    "# -------------------------------------------------------------------------\n",
    "\n",
    "# --- load results from model repo --------------------\n",
    "naive_model_eval_results = ModelRepo.load_models([\"naive-constant\", \"naive-mean\"])\n",
    "cv_model_eval_results = ModelRepo.load_models([\"naive-exp-decay\"])\n",
    "\n",
    "# --- post-processing ---------------------------------\n",
    "all_model_eval_results = naive_model_eval_results | cv_model_eval_results\n",
    "\n",
    "model_exp_decay = all_model_eval_results[\"naive-exp-decay\"].ts_model"
   ]
  },
  {
   "cell_type": "code",
   "execution_count": null,
   "metadata": {
    "pycharm": {
     "name": "#%%\n"
    }
   },
   "outputs": [],
   "source": [
    "# -------------------------------------------------------------------------\n",
    "#  PLOTS - NAIVE\n",
    "# -------------------------------------------------------------------------\n",
    "generate_all_rmse_plots(\n",
    "    naive_model_eval_results, path_results_naive / \"curves_with_threshold\", plot_rmse_threshold=True\n",
    ")\n",
    "generate_all_rmse_plots(\n",
    "    naive_model_eval_results, path_results_naive / \"curves_without_threshold\", plot_rmse_threshold=False\n",
    ")"
   ]
  },
  {
   "cell_type": "code",
   "execution_count": null,
   "metadata": {
    "pycharm": {
     "name": "#%%\n"
    }
   },
   "outputs": [],
   "source": [
    "# -------------------------------------------------------------------------\n",
    "#  PLOTS - EXP. DECAY\n",
    "# -------------------------------------------------------------------------\n",
    "fig, ax = (\n",
    "    model_exp_decay.cv.results.plot_1d(\"tau\")\n",
    "    .set_fig_title(\"Cross-validation - 'naive-exp-decay' - tau\")\n",
    "    .set_y_label(TS_PRIMARY_METRIC_DISPLAY_NAME)\n",
    "    .set_x_label(\"tau\\n(samples)\")\n",
    "    .create(w=12, h=8)\n",
    ")\n",
    "fig.savefig(path_results_exp_decay / \"cv_results_tau.png\", dpi=600)"
   ]
  },
  {
   "cell_type": "code",
   "execution_count": null,
   "metadata": {
    "pycharm": {
     "name": "#%%\n"
    }
   },
   "outputs": [],
   "source": [
    "# -------------------------------------------------------------------------\n",
    "#  PLOTS - ALL MODELS\n",
    "# -------------------------------------------------------------------------\n",
    "generate_all_rmse_plots(all_model_eval_results, path_results_exp_decay, highlight_models=[\"naive-exp-decay\"])"
   ]
  },
  {
   "cell_type": "code",
   "execution_count": null,
   "metadata": {
    "pycharm": {
     "name": "#%%\n"
    }
   },
   "outputs": [],
   "source": [
    "# -------------------------------------------------------------------------\n",
    "#  Simulation results\n",
    "# -------------------------------------------------------------------------\n",
    "plot_simulations(naive_model_eval_results, path_results_naive)\n",
    "plot_simulations(cv_model_eval_results, path_results_exp_decay)"
   ]
  },
  {
   "cell_type": "code",
   "execution_count": null,
   "metadata": {
    "pycharm": {
     "name": "#%%\n"
    }
   },
   "outputs": [],
   "source": [
    "df_metrics = ModelEvalResult.all_metric_values_as_df(all_model_eval_results, ValidationType.TEST)\n",
    "\n",
    "df_metrics[\"max_accurate_lead_time_samples\"] = df_metrics[\"max_accurate_lead_time\"].copy()\n",
    "df_metrics[\"max_accurate_lead_time\"] = df_metrics[\"max_accurate_lead_time\"].apply(\n",
    "    lambda x: format_timedelta(x * 15 * 60)\n",
    ")\n",
    "\n",
    "display(df_metrics)"
   ]
  }
 ],
 "metadata": {
  "kernelspec": {
   "display_name": "Python 3",
   "language": "python",
   "name": "python3"
  },
  "language_info": {
   "codemirror_mode": {
    "name": "ipython",
    "version": 2
   },
   "file_extension": ".py",
   "mimetype": "text/x-python",
   "name": "python",
   "nbconvert_exporter": "python",
   "pygments_lexer": "ipython2",
   "version": "2.7.6"
  }
 },
 "nbformat": 4,
 "nbformat_minor": 0
}
