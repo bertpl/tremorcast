{
 "cells": [
  {
   "cell_type": "code",
   "execution_count": null,
   "metadata": {
    "pycharm": {
     "name": "#%%\n"
    }
   },
   "outputs": [],
   "source": [
    "import pickle\n",
    "from typing import List\n",
    "\n",
    "import matplotlib.pyplot as plt\n",
    "from matplotlib import patches\n",
    "\n",
    "from src.applications.vedur_is import VedurHarmonicMagnitudes\n",
    "from src.projects.fagradalsfjall.common.project_settings import (\n",
    "    FILE_DATASET_FULL,\n",
    "    FILE_DATASET_SELECTION,\n",
    "    FILE_DATASET_TEST,\n",
    "    FILE_DATASET_TRAIN,\n",
    "    FILE_DATASET_CROSS_VALIDATION,\n",
    "    DATASET_TRAIN_TEST_TS_FROM,\n",
    "    DATASET_TRAIN_TEST_TS_TO,\n",
    "    DATASET_TRAIN_SAMPLE_FROM,\n",
    "    DATASET_TRAIN_SAMPLE_TO,\n",
    "    DATASET_TEST_SAMPLE_FROM,\n",
    "    DATASET_TEST_SAMPLE_TO,\n",
    "    CV_MIN_SAMPLES_TRAIN,\n",
    "    CV_MIN_SAMPLES_VALIDATE,\n",
    ")\n",
    "from src.tools.datetime import ts_to_float\n",
    "from src.tools.matplotlib import plot_style_matplotlib_default\n",
    "from src.base.forecasting.evaluation.cross_validation.cv_splits import TimeSeriesCVSplitter"
   ]
  },
  {
   "cell_type": "code",
   "execution_count": null,
   "metadata": {
    "pycharm": {
     "name": "#%%\n"
    }
   },
   "outputs": [],
   "source": [
    "# -------------------------------------------------------------------------\n",
    "#  Load dataset\n",
    "# -------------------------------------------------------------------------\n",
    "\n",
    "print(\"Loading dataset...    \", end=\"\")\n",
    "with open(FILE_DATASET_FULL + \".pkl\", \"rb\") as f:\n",
    "    all_data = pickle.load(f)\n",
    "print(\"Done.\")"
   ]
  },
  {
   "cell_type": "code",
   "execution_count": null,
   "metadata": {
    "pycharm": {
     "name": "#%%\n"
    }
   },
   "outputs": [],
   "source": [
    "# -------------------------------------------------------------------------\n",
    "#  Default plot settings\n",
    "# -------------------------------------------------------------------------\n",
    "plot_style_matplotlib_default()"
   ]
  },
  {
   "cell_type": "code",
   "execution_count": null,
   "metadata": {
    "pycharm": {
     "name": "#%%\n"
    }
   },
   "outputs": [],
   "source": [
    "# -------------------------------------------------------------------------\n",
    "#  Make selection & split\n",
    "# -------------------------------------------------------------------------\n",
    "\n",
    "# convert datetime -> sample index\n",
    "i_from = all_data.get_closest_index(DATASET_TRAIN_TEST_TS_FROM)\n",
    "i_to = all_data.get_closest_index(DATASET_TRAIN_TEST_TS_TO)\n",
    "\n",
    "# main selection (=train+test) & extended selection (for visualization; with 1 day extra on each side)\n",
    "data_selection = all_data.slice(i_from, i_to)  # type: VedurHarmonicMagnitudes\n",
    "data_selection_extra = all_data.slice(i_from - 96, i_to + 96)  # type: VedurHarmonicMagnitudes\n",
    "\n",
    "# split in train & test\n",
    "data_train = data_selection.slice(DATASET_TRAIN_SAMPLE_FROM, DATASET_TRAIN_SAMPLE_TO)\n",
    "data_test = data_selection.slice(DATASET_TEST_SAMPLE_FROM, DATASET_TEST_SAMPLE_TO)\n",
    "\n",
    "print()\n",
    "print(f\"dataset - ext. selection : {data_selection_extra.n_samples} samples\")\n",
    "print(f\"dataset - selection      : {data_selection.n_samples} samples\")\n",
    "print(f\"dataset - train          : {data_train.n_samples} samples.\")\n",
    "print(f\"dataset - test           : {data_test.n_samples} samples.\")"
   ]
  },
  {
   "cell_type": "code",
   "execution_count": null,
   "metadata": {
    "pycharm": {
     "name": "#%%\n"
    }
   },
   "outputs": [],
   "source": [
    "save_config = [\n",
    "    (FILE_DATASET_SELECTION, data_selection),\n",
    "    (FILE_DATASET_TRAIN, data_train),\n",
    "    (FILE_DATASET_TEST, data_test),\n",
    "]"
   ]
  },
  {
   "cell_type": "code",
   "execution_count": null,
   "metadata": {
    "pycharm": {
     "name": "#%%\n"
    }
   },
   "outputs": [],
   "source": [
    "# -------------------------------------------------------------------------\n",
    "#  Save - PKL\n",
    "# -------------------------------------------------------------------------\n",
    "for base_file_name, data in save_config:  # type: str, VedurHarmonicMagnitudes\n",
    "    print(base_file_name + \".pkl\")\n",
    "    with open(base_file_name + \".pkl\", \"wb\") as f:\n",
    "        pickle.dump(data, f)\n",
    "\n",
    "print(\"Done\")"
   ]
  },
  {
   "cell_type": "code",
   "execution_count": null,
   "metadata": {
    "pycharm": {
     "name": "#%%\n"
    }
   },
   "outputs": [],
   "source": [
    "# -------------------------------------------------------------------------\n",
    "#  Save - CSV\n",
    "# -------------------------------------------------------------------------\n",
    "for base_file_name, data in save_config:  # type: str, VedurHarmonicMagnitudes\n",
    "    print(base_file_name + \".csv\")\n",
    "    data.to_dataframe().to_csv(base_file_name + \".csv\")\n",
    "\n",
    "print(\"Done\")"
   ]
  },
  {
   "cell_type": "code",
   "execution_count": null,
   "metadata": {
    "pycharm": {
     "name": "#%%\n"
    }
   },
   "outputs": [],
   "source": [
    "# -------------------------------------------------------------------------\n",
    "#  Save - PNG\n",
    "# -------------------------------------------------------------------------\n",
    "\n",
    "# --- train -----------------------------------------------\n",
    "fig, _ = data_train.create_plot(title=\"Fagradalsfjall (faf) - TRAINING SET\")\n",
    "fig.savefig(FILE_DATASET_TRAIN + \".png\", dpi=450)\n",
    "print(FILE_DATASET_TRAIN + \".png\")\n",
    "\n",
    "# --- test ------------------------------------------------\n",
    "fig, _ = data_test.create_plot(title=\"Fagradalsfjall (faf) - TEST SET\")\n",
    "fig.savefig(FILE_DATASET_TEST + \".png\", dpi=450)\n",
    "print(FILE_DATASET_TEST + \".png\")"
   ]
  },
  {
   "cell_type": "code",
   "execution_count": null,
   "metadata": {
    "pycharm": {
     "name": "#%%\n"
    }
   },
   "outputs": [],
   "source": [
    "# --- illustrate train/test split -------------------------\n",
    "fig, ax = data_selection_extra.create_plot(title=\"Fagradalsfjall (faf) - TRAINING & TEST SETS\")\n",
    "\n",
    "x_train_from = ts_to_float(data_selection.time[DATASET_TRAIN_SAMPLE_FROM])\n",
    "x_train_to = ts_to_float(data_selection.time[DATASET_TRAIN_SAMPLE_TO - 1])\n",
    "x_test_from = ts_to_float(data_selection.time[DATASET_TEST_SAMPLE_FROM])\n",
    "x_test_to = ts_to_float(data_selection.time[DATASET_TEST_SAMPLE_TO - 1])\n",
    "\n",
    "train_rect = patches.Rectangle(\n",
    "    (x_train_from, 250), x_train_to - x_train_from, 6500, alpha=0.1, edgecolor=None, facecolor=\"green\"\n",
    ")\n",
    "ax.add_patch(train_rect)\n",
    "ax.text(x_train_from + (6 * 60 * 60), 6250, \"TRAINING DATA\", fontsize=16, fontweight=600)\n",
    "\n",
    "test_rect = patches.Rectangle(\n",
    "    (x_test_from, 250), x_test_to - x_test_from, 6500, alpha=0.1, edgecolor=None, facecolor=\"blue\"\n",
    ")\n",
    "ax.add_patch(test_rect)\n",
    "ax.text(x_test_from + (6 * 60 * 60), 6250, \"TEST DATA\", fontsize=16, fontweight=600)\n",
    "\n",
    "print(FILE_DATASET_SELECTION + \".png\")\n",
    "fig.savefig(FILE_DATASET_SELECTION + \".png\", dpi=450)"
   ]
  },
  {
   "cell_type": "code",
   "execution_count": null,
   "metadata": {
    "pycharm": {
     "name": "#%%\n"
    }
   },
   "outputs": [],
   "source": [
    "# -------------------------------------------------------------------------\n",
    "#  Illustrate cross-validation splits\n",
    "# -------------------------------------------------------------------------\n",
    "\n",
    "# --- obtain CV splits ------------------------------------\n",
    "n_splits = 5\n",
    "cv_splitter = TimeSeriesCVSplitter(\n",
    "    min_samples_train=CV_MIN_SAMPLES_TRAIN, min_samples_validate=CV_MIN_SAMPLES_VALIDATE, n_splits=n_splits\n",
    ")\n",
    "splits = cv_splitter.get_splits(n_samples_tot=DATASET_TRAIN_SAMPLE_TO - DATASET_TRAIN_SAMPLE_FROM)\n",
    "\n",
    "# --- create plot -----------------------------------------\n",
    "fig, axes = plt.subplots(n_splits, 1)  # type: plt.Figure, List[plt.Axes]\n",
    "\n",
    "for i_split, (n_samples_cv_train, n_samples_cv_val) in enumerate(splits):\n",
    "\n",
    "    ax = axes[i_split]  # type: plt.Axes\n",
    "\n",
    "    # actual signals\n",
    "    data_selection_extra.create_plot(fig_ax=(fig, ax))\n",
    "    ax.set_title(f\"Cross-validation - SPLIT {i_split+1} of {n_splits}.\", fontdict={\"fontsize\": 18})\n",
    "\n",
    "    # train & test set\n",
    "    black_rect_kwargs = dict(edgecolor=\"black\", fill=False, ls=\"--\", lw=2)\n",
    "    ax.add_patch(patches.Rectangle((x_train_to, 250), x_train_from - x_train_to, 6500, **black_rect_kwargs))\n",
    "    ax.text(x_train_from + (3 * 60 * 60), 6900, \"TRAINING DATA\", fontsize=16, fontweight=600)\n",
    "\n",
    "    ax.add_patch(patches.Rectangle((x_test_from, 250), x_test_to - x_test_from, 6500, **black_rect_kwargs))\n",
    "    ax.text(x_test_from + (3 * 60 * 60), 6900, \"TEST DATA\", fontsize=16, fontweight=600)\n",
    "    ax.set_axisbelow(True)\n",
    "\n",
    "    # CV train & validation data\n",
    "    x_cv_train_from = ts_to_float(data_selection.time[DATASET_TRAIN_SAMPLE_FROM])\n",
    "    x_cv_train_to = ts_to_float(data_selection.time[DATASET_TRAIN_SAMPLE_FROM + n_samples_cv_train])\n",
    "    x_cv_validation_from = ts_to_float(data_selection.time[DATASET_TRAIN_SAMPLE_FROM + n_samples_cv_train])\n",
    "    x_cv_validation_to = ts_to_float(\n",
    "        data_selection.time[DATASET_TRAIN_SAMPLE_FROM + n_samples_cv_train + n_samples_cv_val]\n",
    "    )\n",
    "\n",
    "    ax.add_patch(\n",
    "        patches.Rectangle(\n",
    "            (x_cv_train_from, 250), x_cv_train_to - x_cv_train_from, 6500, alpha=0.1, edgecolor=None, facecolor=\"green\"\n",
    "        )\n",
    "    )\n",
    "    ax.text(x_cv_train_from + (6 * 60 * 60), 6250, f\"SPLIT {i_split+1} - TRAIN\", fontsize=16, fontweight=500)\n",
    "\n",
    "    ax.add_patch(\n",
    "        patches.Rectangle(\n",
    "            (x_cv_validation_from, 250),\n",
    "            x_cv_validation_to - x_cv_validation_from,\n",
    "            6500,\n",
    "            alpha=0.15,\n",
    "            edgecolor=None,\n",
    "            facecolor=\"yellow\",\n",
    "        )\n",
    "    )\n",
    "    ax.text(x_cv_validation_from + (6 * 60 * 60), 6250, f\"SPLIT {i_split+1} - VAL\", fontsize=16, fontweight=500)\n",
    "\n",
    "# --- finalize --------------------------------------------\n",
    "w, h = fig.get_size_inches()\n",
    "fig.set_size_inches(w=w, h=w)  # make square without changing width\n",
    "fig.tight_layout()\n",
    "\n",
    "# --- save ------------------------------------------------\n",
    "print(FILE_DATASET_CROSS_VALIDATION + \".png\")\n",
    "fig.savefig(FILE_DATASET_CROSS_VALIDATION + \".png\", dpi=300)"
   ]
  }
 ],
 "metadata": {
  "kernelspec": {
   "display_name": "Python 3",
   "language": "python",
   "name": "python3"
  },
  "language_info": {
   "codemirror_mode": {
    "name": "ipython",
    "version": 2
   },
   "file_extension": ".py",
   "mimetype": "text/x-python",
   "name": "python",
   "nbconvert_exporter": "python",
   "pygments_lexer": "ipython2",
   "version": "2.7.6"
  }
 },
 "nbformat": 4,
 "nbformat_minor": 0
}
