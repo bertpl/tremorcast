{
 "cells": [
  {
   "cell_type": "code",
   "execution_count": null,
   "metadata": {
    "pycharm": {
     "name": "#%%\n"
    }
   },
   "outputs": [],
   "source": [
    "from src.projects.fagradalsfjall.common.paths import get_blog_post_subfolder\n",
    "from src.tools.matplotlib import plot_style_matplotlib_default\n",
    "\n",
    "import matplotlib.pyplot as plt\n",
    "\n",
    "import numpy as np"
   ]
  },
  {
   "cell_type": "code",
   "execution_count": null,
   "metadata": {
    "pycharm": {
     "name": "#%%\n"
    }
   },
   "outputs": [],
   "source": [
    "# -------------------------------------------------------------------------\n",
    "#  Output path settings\n",
    "# -------------------------------------------------------------------------\n",
    "path_figures = get_blog_post_subfolder(3, \"figures\")"
   ]
  },
  {
   "cell_type": "code",
   "execution_count": null,
   "metadata": {
    "pycharm": {
     "name": "#%%\n"
    }
   },
   "outputs": [],
   "source": [
    "# -------------------------------------------------------------------------\n",
    "#  Init figure & axes\n",
    "# -------------------------------------------------------------------------\n",
    "plot_style_matplotlib_default()\n",
    "\n",
    "fig, ax = plt.subplots(1, 1)  # type: plt.Figure, plt.Axes\n",
    "\n",
    "# -------------------------------------------------------------------------\n",
    "#  Colors\n",
    "# -------------------------------------------------------------------------\n",
    "blue = (0.3, 0.4, 0.8)\n",
    "green = (0.3, 0.8, 0.4)\n",
    "red = (0.8, 0.3, 0.4)\n",
    "\n",
    "\n",
    "# -------------------------------------------------------------------------\n",
    "#  Axes with arrows\n",
    "# -------------------------------------------------------------------------\n",
    "x_max = 1.1\n",
    "y_max = 1.1\n",
    "\n",
    "ax.spines[\"top\"].set_visible(False)\n",
    "ax.spines[\"right\"].set_visible(False)\n",
    "\n",
    "ax.plot(x_max, 0, \">k\", clip_on=False)\n",
    "ax.plot(0, y_max, \"^k\", clip_on=False)\n",
    "\n",
    "# -------------------------------------------------------------------------\n",
    "#  Actual lines & labels\n",
    "# -------------------------------------------------------------------------\n",
    "\n",
    "# --- define curves -------------------\n",
    "x = np.linspace(0.05, 1.05, 100)\n",
    "\n",
    "y_irreducible = 0.05 * np.ones_like(x)\n",
    "y_bias = 0.1 * (x**-1)\n",
    "y_variance = 0.1 + (x**4)\n",
    "\n",
    "y_total = y_irreducible + y_bias + y_variance\n",
    "\n",
    "# --- plot curves ---------------------\n",
    "lw = 2\n",
    "ax.plot(x, y_irreducible, c=red, lw=lw)\n",
    "ax.plot(x, y_bias, c=green, lw=lw)\n",
    "ax.plot(x, y_variance, c=blue, lw=lw)\n",
    "ax.plot(x, y_total, c=\"k\", lw=lw)\n",
    "\n",
    "# --- labels --------------------------\n",
    "text_kwargs = dict(ha=\"center\", va=\"center\", fontsize=10, fontweight=600)\n",
    "ax.text(0.48, 0.45, \"Total error\", c=\"k\", **text_kwargs)\n",
    "ax.text(0.5, 0.08, \"Irreducible error\", c=red, **text_kwargs)\n",
    "ax.text(0.15, 0.5, \"Bias\", c=green, **text_kwargs)\n",
    "ax.text(0.87, 0.5, \"Variance\", c=blue, **text_kwargs)\n",
    "\n",
    "# -------------------------------------------------------------------------\n",
    "#  Labels & axis settings\n",
    "# -------------------------------------------------------------------------\n",
    "\n",
    "ax.set_xlim(0, x_max)\n",
    "ax.set_xticklabels([])\n",
    "ax.set_xlabel(\"Model complexity\")\n",
    "\n",
    "ax.set_ylim(0, y_max)\n",
    "ax.set_yticklabels([])\n",
    "ax.set_ylabel(\"Error\")\n",
    "\n",
    "ax.grid(True)\n",
    "\n",
    "# -------------------------------------------------------------------------\n",
    "#  Figure properties\n",
    "# -------------------------------------------------------------------------\n",
    "fig.set_size_inches(w=10, h=5)\n",
    "fig.tight_layout()"
   ]
  },
  {
   "cell_type": "code",
   "execution_count": null,
   "metadata": {
    "pycharm": {
     "name": "#%%\n"
    }
   },
   "outputs": [],
   "source": [
    "fig.savefig(path_figures / \"bias_variance.png\", dpi=300)"
   ]
  }
 ],
 "metadata": {
  "kernelspec": {
   "display_name": "Python 3",
   "language": "python",
   "name": "python3"
  },
  "language_info": {
   "codemirror_mode": {
    "name": "ipython",
    "version": 2
   },
   "file_extension": ".py",
   "mimetype": "text/x-python",
   "name": "python",
   "nbconvert_exporter": "python",
   "pygments_lexer": "ipython2",
   "version": "2.7.6"
  }
 },
 "nbformat": 4,
 "nbformat_minor": 0
}
