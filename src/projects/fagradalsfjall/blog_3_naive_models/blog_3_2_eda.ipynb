{
 "cells": [
  {
   "cell_type": "code",
   "execution_count": null,
   "metadata": {
    "pycharm": {
     "name": "#%%\n"
    }
   },
   "outputs": [],
   "source": [
    "from typing import Tuple\n",
    "\n",
    "import matplotlib.pyplot as plt\n",
    "import numpy as np\n",
    "from scipy.stats import ks_2samp\n",
    "\n",
    "from src.projects.fagradalsfjall.common.dataset import load_train_data_numpy, load_test_data_numpy\n",
    "from src.projects.fagradalsfjall.common.paths import get_blog_post_subfolder\n",
    "from src.tools.matplotlib import plot_style_matplotlib_default"
   ]
  },
  {
   "cell_type": "code",
   "execution_count": null,
   "metadata": {
    "pycharm": {
     "name": "#%%\n"
    }
   },
   "outputs": [],
   "source": [
    "# -------------------------------------------------------------------------\n",
    "#  Load TRAINING & TEST set\n",
    "# -------------------------------------------------------------------------\n",
    "print(\"Loading training dataset...    \", end=\"\")\n",
    "x_train = load_train_data_numpy()\n",
    "x_test = load_test_data_numpy()\n",
    "print(\"Done.\")"
   ]
  },
  {
   "cell_type": "code",
   "execution_count": null,
   "metadata": {
    "pycharm": {
     "name": "#%%\n"
    }
   },
   "outputs": [],
   "source": [
    "# -------------------------------------------------------------------------\n",
    "#  Output path settings\n",
    "# -------------------------------------------------------------------------\n",
    "path_figures = get_blog_post_subfolder(3, \"eda\")"
   ]
  },
  {
   "cell_type": "code",
   "execution_count": null,
   "metadata": {
    "pycharm": {
     "name": "#%%\n"
    }
   },
   "outputs": [],
   "source": [
    "# -------------------------------------------------------------------------\n",
    "#  Helpers\n",
    "# -------------------------------------------------------------------------\n",
    "def compute_cdf_xy(samples: np.ndarray, x_min: float, x_max: float) -> Tuple[np.ndarray, np.ndarray]:\n",
    "\n",
    "    x_values = [x_min]\n",
    "    y_values = [0.0]\n",
    "\n",
    "    n = len(samples)\n",
    "    for i, x in enumerate(sorted(samples)):\n",
    "        x_values += [x, x]\n",
    "        y_values += [i / n, (i + 1) / n]\n",
    "\n",
    "    x_values += [x_max]\n",
    "    y_values += [1.0]\n",
    "\n",
    "    return x_values, y_values\n",
    "\n",
    "\n",
    "def compare_samples(\n",
    "    a: np.ndarray, b: np.ndarray, x_min: float, x_max: float, a_name: str, b_name: str\n",
    ") -> Tuple[plt.Figure, plt.Axes]:\n",
    "\n",
    "    # --- prep --------------------------------------------\n",
    "    plot_style_matplotlib_default()\n",
    "    fig, ax = plt.subplots(1, 1)  # type: plt.Figure, plt.Axes\n",
    "    cdf_a_x, cdf_a_y = compute_cdf_xy(a, x_min, x_max)\n",
    "    cdf_b_x, cdf_b_y = compute_cdf_xy(b, x_min, x_max)\n",
    "\n",
    "    # --- KS test -----------------------------------------\n",
    "    ks_stat, p_value = ks_2samp(a, b)\n",
    "\n",
    "    # --- simple statistics -------------------------------\n",
    "    print(f\"{a_name}:  {len(a):_} samples - mean={np.mean(a)} - std={np.std(a)}\")\n",
    "    print(f\"{b_name}:  {len(b):_} samples - mean={np.mean(b)} - std={np.std(b)}\")\n",
    "\n",
    "    # --- actual plotting ---------------------------------\n",
    "    h_cdf_a = ax.plot(cdf_a_x, cdf_a_y)\n",
    "    h_cdf_b = ax.plot(cdf_b_x, cdf_b_y)\n",
    "\n",
    "    # --- decorate ----------------------------------------\n",
    "    ax.set_xlim(x_min, x_max)\n",
    "    ax.legend([a_name, b_name])\n",
    "    ax.grid(True)\n",
    "    ax.set_ylabel(\"CDF\")\n",
    "    ax.set_title(f\"Comparison of distributions '{a_name}' & '{b_name}'\\nKS test: p={p_value:6.2e}\")\n",
    "\n",
    "    fig.tight_layout()\n",
    "\n",
    "    # --- return ------------------------------------------\n",
    "    return fig, ax"
   ]
  },
  {
   "cell_type": "code",
   "execution_count": null,
   "metadata": {
    "pycharm": {
     "name": "#%%\n"
    }
   },
   "outputs": [],
   "source": [
    "# -------------------------------------------------------------------------\n",
    "#  TRAIN vs TEST\n",
    "# -------------------------------------------------------------------------\n",
    "fig, ax = compare_samples(a=x_train, b=x_test, x_min=0, x_max=7000, a_name=\"TRAIN set\", b_name=\"TEST set\")\n",
    "fig.set_size_inches(w=10, h=7)\n",
    "\n",
    "fig.savefig(path_figures / \"compare_distributions_train_vs_test\", dpi=300)"
   ]
  },
  {
   "cell_type": "code",
   "execution_count": null,
   "metadata": {
    "pycharm": {
     "name": "#%%\n"
    }
   },
   "outputs": [],
   "source": [
    "# -------------------------------------------------------------------------\n",
    "#  TRAIN: first 20 vs remaining days\n",
    "# -------------------------------------------------------------------------\n",
    "x_train_a = x_train[0 : 20 * 96]\n",
    "x_train_b = x_train[20 * 96 :]\n",
    "\n",
    "fig, ax = compare_samples(\n",
    "    a=x_train_a, b=x_train_b, x_min=0, x_max=7000, a_name=\"TRAIN set - first 20 days\", b_name=\"TRAIN set - last 11 days\"\n",
    ")\n",
    "fig.set_size_inches(w=10, h=7)\n",
    "\n",
    "fig.savefig(path_figures / \"compare_distributions_train_20_vs_11\", dpi=300)"
   ]
  }
 ],
 "metadata": {
  "kernelspec": {
   "display_name": "Python 3",
   "language": "python",
   "name": "python3"
  },
  "language_info": {
   "codemirror_mode": {
    "name": "ipython",
    "version": 2
   },
   "file_extension": ".py",
   "mimetype": "text/x-python",
   "name": "python",
   "nbconvert_exporter": "python",
   "pygments_lexer": "ipython2",
   "version": "2.7.6"
  }
 },
 "nbformat": 4,
 "nbformat_minor": 0
}
