{
 "cells": [
  {
   "cell_type": "code",
   "execution_count": null,
   "metadata": {
    "pycharm": {
     "name": "#%%\n"
    }
   },
   "outputs": [],
   "source": [
    "from typing import Optional\n",
    "\n",
    "import os\n",
    "\n",
    "from src.applications.vedur_is import VedurHarmonicMagnitudes, VedurHarmonicMagnitudesGraph\n",
    "from src.projects.fagradalsfjall.common.project_settings import (\n",
    "    FILE_DATASET_FULL,\n",
    "    PATH_SCRAPED_DEBUG,\n",
    "    SCRAPED_FILES_FOR_PROCESSING,\n",
    ")\n",
    "from src.projects.fagradalsfjall.common import save_dataset_pickle, save_dataset_csv\n",
    "from tqdm.auto import tqdm\n",
    "from src.tools.matplotlib import plot_style_matplotlib_default"
   ]
  },
  {
   "cell_type": "code",
   "execution_count": null,
   "metadata": {
    "pycharm": {
     "name": "#%%\n"
    }
   },
   "outputs": [],
   "source": [
    "# -------------------------------------------------------------------------\n",
    "#  Default style\n",
    "# -------------------------------------------------------------------------\n",
    "plot_style_matplotlib_default()"
   ]
  },
  {
   "cell_type": "code",
   "execution_count": null,
   "metadata": {
    "pycharm": {
     "name": "#%%\n"
    }
   },
   "outputs": [],
   "source": [
    "# -------------------------------------------------------------------------\n",
    "#  Process all files & save debug figures\n",
    "# -------------------------------------------------------------------------\n",
    "os.makedirs(PATH_SCRAPED_DEBUG, exist_ok=True)\n",
    "\n",
    "all_data = None  # type: Optional[VedurHarmonicMagnitudes]\n",
    "for full_path in tqdm(SCRAPED_FILES_FOR_PROCESSING, desc=\"Processing graphs\"):\n",
    "\n",
    "    _, file_name = os.path.split(full_path)\n",
    "\n",
    "    file_without_ext, _ = os.path.splitext(file_name)\n",
    "    graph = VedurHarmonicMagnitudesGraph(full_path, year=2021)\n",
    "\n",
    "    graph.debug_image(show_grids=True).save(os.path.join(PATH_SCRAPED_DEBUG, file_without_ext + \"_grids.png\"))\n",
    "    graph.debug_image(show_dates=True).save(os.path.join(PATH_SCRAPED_DEBUG, file_without_ext + \"_dates.png\"))\n",
    "    graph.debug_image(show_blue=True).save(os.path.join(PATH_SCRAPED_DEBUG, file_without_ext + \"_data_blue.png\"))\n",
    "    graph.debug_image(show_green=True).save(os.path.join(PATH_SCRAPED_DEBUG, file_without_ext + \"_data_green.png\"))\n",
    "    graph.debug_image(show_purple=True).save(os.path.join(PATH_SCRAPED_DEBUG, file_without_ext + \"_data_purple.png\"))\n",
    "\n",
    "    if all_data is None:\n",
    "        all_data = graph.data\n",
    "    else:\n",
    "        all_data |= graph.data"
   ]
  },
  {
   "cell_type": "code",
   "execution_count": null,
   "metadata": {
    "pycharm": {
     "name": "#%%\n"
    }
   },
   "outputs": [],
   "source": [
    "# -------------------------------------------------------------------------\n",
    "#  Plot data & save\n",
    "# -------------------------------------------------------------------------\n",
    "fig, ax = all_data.create_plot(title=\"Fagradalsfjall (faf)\")\n",
    "fig.savefig(FILE_DATASET_FULL + \".png\", dpi=450)"
   ]
  },
  {
   "cell_type": "code",
   "execution_count": null,
   "metadata": {
    "pycharm": {
     "name": "#%%\n"
    }
   },
   "outputs": [],
   "source": [
    "# --- PKL -------------------------------------------------\n",
    "print(\"Saving dataset as .pkl\".ljust(30), end=\"\")\n",
    "save_dataset_pickle(all_data)\n",
    "print(\"Done.\")\n",
    "\n",
    "# --- CSV -------------------------------------------------\n",
    "print(\"Saving dataset as .csv\".ljust(30), end=\"\")\n",
    "save_dataset_csv(all_data)\n",
    "print(\"Done.\")"
   ]
  },
  {
   "cell_type": "code",
   "execution_count": null,
   "metadata": {
    "pycharm": {
     "name": "#%%\n"
    }
   },
   "outputs": [],
   "source": []
  }
 ],
 "metadata": {
  "kernelspec": {
   "display_name": "Python 3",
   "language": "python",
   "name": "python3"
  },
  "language_info": {
   "codemirror_mode": {
    "name": "ipython",
    "version": 2
   },
   "file_extension": ".py",
   "mimetype": "text/x-python",
   "name": "python",
   "nbconvert_exporter": "python",
   "pygments_lexer": "ipython2",
   "version": "2.7.6"
  }
 },
 "nbformat": 4,
 "nbformat_minor": 0
}
