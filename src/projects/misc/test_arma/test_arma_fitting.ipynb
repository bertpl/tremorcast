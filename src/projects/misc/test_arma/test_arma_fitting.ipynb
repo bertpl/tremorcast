{
 "cells": [
  {
   "cell_type": "code",
   "execution_count": null,
   "metadata": {
    "pycharm": {
     "name": "#%%\n"
    }
   },
   "outputs": [],
   "source": [
    "from typing import List\n",
    "import datetime\n",
    "\n",
    "import numpy as np\n",
    "import matplotlib.pyplot as plt\n",
    "\n",
    "from src.base.forecasting.models.time_series.helpers.arma import generate_arma_data, ar_fit, arma_fit, ArmaFitMethods\n",
    "from src.tools.matplotlib import plot_style_matplotlib_default"
   ]
  },
  {
   "cell_type": "code",
   "execution_count": null,
   "metadata": {
    "pycharm": {
     "name": "#%%\n"
    }
   },
   "outputs": [],
   "source": [
    "plot_style_matplotlib_default()"
   ]
  },
  {
   "cell_type": "code",
   "execution_count": null,
   "metadata": {
    "pycharm": {
     "name": "#%%\n"
    }
   },
   "outputs": [],
   "source": [
    "# -------------------------------------------------------------------------\n",
    "#  Generate data\n",
    "# -------------------------------------------------------------------------\n",
    "\n",
    "# --- settings --------------------------------------------\n",
    "a_true = np.array([0.7, -0.1, 0.2, 0.05])\n",
    "b_true = np.array([0.1, 0.1])\n",
    "n = 10_000\n",
    "\n",
    "# --- create data -----------------------------------------\n",
    "x = generate_arma_data(a_true, b_true, n)\n",
    "\n",
    "# --- plot ------------------------------------------------\n",
    "fig, ax = plt.subplots(1, 1)  # type: plt.Figure, plt.Axes\n",
    "ax.plot(x)\n",
    "ax.grid(True)\n",
    "fig.set_size_inches(w=16, h=4)"
   ]
  },
  {
   "cell_type": "code",
   "execution_count": null,
   "metadata": {
    "pycharm": {
     "name": "#%%\n"
    }
   },
   "outputs": [],
   "source": [
    "# -------------------------------------------------------------------------\n",
    "#  Test fitting\n",
    "# -------------------------------------------------------------------------\n",
    "t_start = datetime.datetime.now()\n",
    "\n",
    "a_fitted, b_fitted = arma_fit(x, p=75, q=10, wd=100, method=\"Powell\", silent=True)\n",
    "\n",
    "t_end = datetime.datetime.now()\n",
    "print(f\"Elapsed: {(t_end-t_start).total_seconds():.2f}sec\")"
   ]
  },
  {
   "cell_type": "code",
   "execution_count": null,
   "metadata": {
    "pycharm": {
     "name": "#%%\n"
    }
   },
   "outputs": [],
   "source": []
  },
  {
   "cell_type": "code",
   "execution_count": null,
   "metadata": {
    "pycharm": {
     "name": "#%%\n"
    }
   },
   "outputs": [],
   "source": []
  }
 ],
 "metadata": {
  "kernelspec": {
   "display_name": "Python 3",
   "language": "python",
   "name": "python3"
  },
  "language_info": {
   "codemirror_mode": {
    "name": "ipython",
    "version": 2
   },
   "file_extension": ".py",
   "mimetype": "text/x-python",
   "name": "python",
   "nbconvert_exporter": "python",
   "pygments_lexer": "ipython2",
   "version": "2.7.6"
  }
 },
 "nbformat": 4,
 "nbformat_minor": 0
}
