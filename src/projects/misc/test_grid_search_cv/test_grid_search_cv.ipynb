{
 "cells": [
  {
   "cell_type": "code",
   "execution_count": null,
   "metadata": {
    "pycharm": {
     "name": "#%%\n"
    }
   },
   "outputs": [],
   "source": [
    "import matplotlib.pyplot as plt\n",
    "import numpy as np\n",
    "\n",
    "from src.base.forecasting.evaluation.cross_validation import ErrorBounds\n",
    "from src.base.forecasting.models import (\n",
    "    TabularMetric,\n",
    "    TabularRegressorMLP,\n",
    ")\n",
    "\n",
    "from create_dataset import DataSetType, create_dataset\n",
    "from enum import Enum\n",
    "from typing import Dict, List, Union"
   ]
  },
  {
   "cell_type": "code",
   "execution_count": null,
   "metadata": {
    "pycharm": {
     "name": "#%%\n"
    }
   },
   "outputs": [],
   "source": [
    "# =================================================================================================\n",
    "#  Settings\n",
    "# =================================================================================================\n",
    "class TestType(Enum):\n",
    "    GRID_REGULAR = 0\n",
    "    GRID_SKEWED = 1\n",
    "    SINGLE_VAR = 2\n",
    "\n",
    "\n",
    "# test setup\n",
    "score_metric = TabularMetric.rmse()\n",
    "test_type = TestType.GRID_SKEWED\n",
    "n_seeds = 1\n",
    "n_folds = 5"
   ]
  },
  {
   "cell_type": "code",
   "execution_count": null,
   "metadata": {
    "pycharm": {
     "name": "#%%\n"
    }
   },
   "outputs": [],
   "source": [
    "# =================================================================================================\n",
    "#  Construct dataset\n",
    "# =================================================================================================\n",
    "x_train, y_train = create_dataset(DataSetType.SINE, n=1000, c=7.0)"
   ]
  },
  {
   "cell_type": "code",
   "execution_count": null,
   "metadata": {
    "pycharm": {
     "name": "#%%\n"
    }
   },
   "outputs": [],
   "source": [
    "# =================================================================================================\n",
    "#  Some helpers\n",
    "# =================================================================================================\n",
    "def get_param_grid() -> Union[List[Dict], Dict]:\n",
    "\n",
    "    if test_type == TestType.GRID_REGULAR:\n",
    "\n",
    "        return {\"wd\": [1e-4, 1e-3, 1e-2, 1e-1, 1, 10], \"n_epochs\": [5, 10, 20, 50, 100], \"n_hidden_layers\": [5]}\n",
    "\n",
    "    elif test_type == TestType.GRID_SKEWED:\n",
    "\n",
    "        return {\n",
    "            (\"wd\", \"n_epochs\"): [\n",
    "                (1e-4, 10),\n",
    "                (1e-3, 10),\n",
    "                (1e-2, 10),\n",
    "                (1e-3, 20),\n",
    "                (1e-2, 20),\n",
    "                (1e-1, 20),\n",
    "                (1e-2, 50),\n",
    "                (1e-1, 50),\n",
    "                (1e-0, 50),\n",
    "                (1e-2, 75),\n",
    "                (1e-1, 75),\n",
    "                (1e-0, 75),\n",
    "                (10, 60),\n",
    "            ],\n",
    "            \"n_hidden_layers\": [5],\n",
    "        }\n",
    "\n",
    "    elif test_type == TestType.SINGLE_VAR:\n",
    "\n",
    "        return {\"wd\": [1e-4, 1e-3, 1e-2, 1e-1, 1, 10], \"n_epochs\": [100], \"n_hidden_layers\": [5]}\n",
    "\n",
    "    else:\n",
    "\n",
    "        raise NotImplementedError(f\"Unknown test type: {test_type}\")"
   ]
  },
  {
   "cell_type": "code",
   "execution_count": null,
   "metadata": {
    "pycharm": {
     "name": "#%%\n"
    }
   },
   "outputs": [],
   "source": [
    "# =================================================================================================\n",
    "#  Actual simulation\n",
    "# =================================================================================================\n",
    "\n",
    "# --- set up test -----------------------------------------\n",
    "mlp = TabularRegressorMLP(n_hidden_layers=3, n_seeds=n_seeds, n_epochs=20, layer_width=200)\n",
    "param_grid = get_param_grid()\n",
    "\n",
    "# --- run cv ----------------------------------------------\n",
    "mlp.cv.grid_search(x_train, y_train, param_grid, score_metric, n_jobs=-1, shuffle_data=True, n_splits=n_folds)"
   ]
  },
  {
   "cell_type": "code",
   "execution_count": null,
   "metadata": {
    "pycharm": {
     "name": "#%%\n"
    }
   },
   "outputs": [],
   "source": [
    "# =================================================================================================\n",
    "#  Plot CV results\n",
    "# =================================================================================================\n",
    "if test_type == TestType.SINGLE_VAR:\n",
    "    fig, ax = mlp.cv.results.plot_1d(\"wd\").set_error_bounds(ErrorBounds.STDEV).create()  # type: plt.Figure, plt.Axes\n",
    "else:\n",
    "    fig, ax = mlp.cv.results.plot_2d(\"wd\", \"n_epochs\").create()  # type: plt.Figure, plt.Axes"
   ]
  },
  {
   "cell_type": "code",
   "execution_count": null,
   "metadata": {
    "pycharm": {
     "name": "#%%\n"
    }
   },
   "outputs": [],
   "source": [
    "# =================================================================================================\n",
    "#  Plot function fit\n",
    "# =================================================================================================\n",
    "x_min = min(x_train)\n",
    "x_max = max(x_train)\n",
    "x_min, x_max = x_min - 0.1 * (x_max - x_min), x_max + 0.1 * (x_max - x_min)\n",
    "\n",
    "y_min = min(y_train)\n",
    "y_max = max(y_train)\n",
    "y_min, y_max = y_min - 0.1 * (y_max - y_min), y_max + 0.1 * (y_max - y_min)\n",
    "\n",
    "x_test = np.linspace(x_min, x_max, 1000)\n",
    "y_test = mlp.predict(x_test)\n",
    "\n",
    "# --- plot --------------------------------------------\n",
    "fig, ax = plt.subplots(1, 1)  # type: plt.Figure, plt.Axes\n",
    "\n",
    "# plot training data\n",
    "ax.plot(x_train, y_train, ls=\"\", marker=\"x\", c=(0.6, 0.6, 0.6))\n",
    "\n",
    "# plot predictions\n",
    "ax.plot(x_test, y_test, ls=\"-\")\n",
    "\n",
    "ax.set_ylim(bottom=y_min, top=y_max)\n",
    "\n",
    "fig.set_size_inches(w=12, h=8)\n",
    "fig.tight_layout()"
   ]
  }
 ],
 "metadata": {
  "kernelspec": {
   "display_name": "Python 3",
   "language": "python",
   "name": "python3"
  },
  "language_info": {
   "codemirror_mode": {
    "name": "ipython",
    "version": 2
   },
   "file_extension": ".py",
   "mimetype": "text/x-python",
   "name": "python",
   "nbconvert_exporter": "python",
   "pygments_lexer": "ipython2",
   "version": "2.7.6"
  }
 },
 "nbformat": 4,
 "nbformat_minor": 0
}
