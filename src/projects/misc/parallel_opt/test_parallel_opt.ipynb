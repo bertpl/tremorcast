{
 "cells": [
  {
   "cell_type": "code",
   "execution_count": null,
   "metadata": {
    "pycharm": {
     "name": "#%%\n"
    }
   },
   "outputs": [],
   "source": [
    "from src.base.optimization import ParallelOptimizer, GridSearch, RandomSearch, InformedSearch, LineSearch\n",
    "from src.projects.misc.parallel_opt.test_objectives import (\n",
    "    quadratic_2d,\n",
    "    quadratic_5d,\n",
    "    quadratic_5d_unreliabe,\n",
    "    quadratic_5d_always_fails,\n",
    "    quadratic_5d_can_return_none,\n",
    ")"
   ]
  },
  {
   "cell_type": "code",
   "execution_count": null,
   "metadata": {
    "pycharm": {
     "name": "#%%\n"
    }
   },
   "outputs": [],
   "source": [
    "optimizer = ParallelOptimizer(report_stats_freq_secs=10)\n",
    "\n",
    "n = 10\n",
    "scheduler = LineSearch(\n",
    "    param_grid={\n",
    "        \"a\": list(range(-n, n + 1)),\n",
    "        \"b\": list(range(-n, n + 1)),\n",
    "        \"c\": list(range(-n, n + 1)),\n",
    "        \"d\": list(range(-n, n + 1)),\n",
    "        \"e\": list(range(-n, n + 1)),\n",
    "    },\n",
    "    max_seconds=120,\n",
    ")\n",
    "\n",
    "opt_result = optimizer.optimize(objective=quadratic_5d_can_return_none, scheduler=scheduler)\n",
    "\n",
    "scheduler.tuple_to_dict(opt_result)"
   ]
  },
  {
   "cell_type": "code",
   "execution_count": null,
   "metadata": {
    "pycharm": {
     "name": "#%%\n"
    }
   },
   "outputs": [],
   "source": []
  }
 ],
 "metadata": {
  "kernelspec": {
   "display_name": "Python 3",
   "language": "python",
   "name": "python3"
  },
  "language_info": {
   "codemirror_mode": {
    "name": "ipython",
    "version": 2
   },
   "file_extension": ".py",
   "mimetype": "text/x-python",
   "name": "python",
   "nbconvert_exporter": "python",
   "pygments_lexer": "ipython2",
   "version": "2.7.6"
  }
 },
 "nbformat": 4,
 "nbformat_minor": 0
}
